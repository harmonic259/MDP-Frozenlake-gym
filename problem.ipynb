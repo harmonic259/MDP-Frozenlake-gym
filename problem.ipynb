{
 "cells": [
  {
   "cell_type": "markdown",
   "metadata": {},
   "source": [
    "## Imports"
   ]
  },
  {
   "cell_type": "code",
   "execution_count": 261,
   "metadata": {},
   "outputs": [],
   "source": [
    "import numpy as np\n",
    "import gymnasium as gym\n",
    "from IPython.display import HTML\n",
    "from base64 import b64encode\n",
    "import imageio"
   ]
  },
  {
   "cell_type": "markdown",
   "metadata": {},
   "source": [
    "## Utils"
   ]
  },
  {
   "cell_type": "code",
   "execution_count": 262,
   "metadata": {},
   "outputs": [],
   "source": [
    "def record_video(env, policy, out_directory, fps=1, random_action=False, max_steps=100):\n",
    "    images = []  \n",
    "    done = False\n",
    "    truncated = False\n",
    "    state, info = env.reset()\n",
    "    img = env.render()\n",
    "    images.append(img)\n",
    "    total_reward = 0\n",
    "    i = 0\n",
    "    while not done and not truncated:\n",
    "        i += 1\n",
    "        if i > max_steps:\n",
    "            break\n",
    "        action = np.random.randint(4) if random_action else policy[state]\n",
    "        state, reward, done, truncated, info = env.step(action)\n",
    "        total_reward += reward\n",
    "        img = env.render()\n",
    "        images.append(img)\n",
    "        if not random_action:\n",
    "            print(f\"action: {action}, state: {state}, reward: {reward}, done: {done}, truncated: {truncated}, info: {info}\")\n",
    "    imageio.mimsave(out_directory, [np.array(img) for i, img in enumerate(images)], fps=fps)\n",
    "    return total_reward"
   ]
  },
  {
   "cell_type": "code",
   "execution_count": 263,
   "metadata": {},
   "outputs": [],
   "source": [
    "def show_video(video_path, video_width=500):\n",
    "    video_file = open(video_path, \"r+b\").read()\n",
    "    video_url = f\"data:video/mp4;base64,{b64encode(video_file).decode()}\"\n",
    "    return HTML(f\"\"\"<video width={video_width} controls><source src=\"{video_url}\"></video>\"\"\")"
   ]
  },
  {
   "cell_type": "markdown",
   "metadata": {},
   "source": [
    "## Random Walk"
   ]
  },
  {
   "cell_type": "code",
   "execution_count": 264,
   "metadata": {},
   "outputs": [
    {
     "name": "stdout",
     "output_type": "stream",
     "text": [
      "total reward: 0.0\n"
     ]
    },
    {
     "data": {
      "text/html": [
       "<video width=500 controls><source src=\"data:video/mp4;base64,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\"></video>"
      ],
      "text/plain": [
       "<IPython.core.display.HTML object>"
      ]
     },
     "execution_count": 264,
     "metadata": {},
     "output_type": "execute_result"
    }
   ],
   "source": [
    "#from moviepy.config import change_settings\n",
    "#change_settings({\"FFMPEG_BINARY\": \"/Library/Frameworks/Python.framework/Versions/3.10/lib/python3.10/site-packages/ffmpeg\"})\n",
    "env = gym.make(\"FrozenLake-v1\", map_name=\"4x4\", is_slippery=False, render_mode='rgb_array')\n",
    "total_reward = record_video(env, None, 'frozenlake_random.mp4', fps=3, random_action=True)\n",
    "print(f\"total reward: {total_reward}\")\n",
    "show_video('frozenlake_random.mp4', video_width=500)"
   ]
  },
  {
   "cell_type": "code",
   "execution_count": null,
   "metadata": {},
   "outputs": [],
   "source": []
  },
  {
   "cell_type": "markdown",
   "metadata": {},
   "source": [
    "## Define FrozenLake MDP"
   ]
  },
  {
   "cell_type": "code",
   "execution_count": 265,
   "metadata": {},
   "outputs": [],
   "source": [
    "class FrozenLakeMDP:\n",
    "    def __init__(self, is_slippery):\n",
    "        self.is_slippery = is_slippery\n",
    "        self.terminal_states = np.zeros(16, dtype=int)\n",
    "        self.terminal_states[[5, 7, 11, 12, 15]] = 1\n",
    "        self.reward_fn = np.zeros(16, dtype=int)\n",
    "        self.reward_fn[15] = 1\n",
    "\n",
    "    def is_terminal(self, state):\n",
    "        return self.terminal_states[state]\n",
    "    \n",
    "    def get_reward_function(self):\n",
    "        return self.reward_fn\n",
    "\n",
    "    def next_state_det(self, state, action):\n",
    "        if action == 0:    # LEFT\n",
    "            next_state = state - 1 if state % 4 != 0 else state\n",
    "        elif action == 1:  # DOWN\n",
    "            next_state = state + 4 if state // 4 != 3 else state\n",
    "        elif action == 2:  # RIGHT\n",
    "            next_state = state + 1 if state % 4 != 3 else state\n",
    "        elif action == 3:  # UP\n",
    "            next_state = state - 4 if state // 4 != 0 else state\n",
    "        else:         # WRONG ACTION\n",
    "            next_state = state\n",
    "        return next_state\n",
    "    \n",
    "    def trans_prob(self, state, action):\n",
    "        prob = np.zeros((16,), dtype=float)\n",
    "        if not self.is_slippery:\n",
    "            prob[self.next_state_det(state, action)] = 1.0\n",
    "        else:\n",
    "            prob[self.next_state_det(state, action)] += 1/3\n",
    "            prob[self.next_state_det(state, (action+1)%4)] += 1/3\n",
    "            prob[self.next_state_det(state, (action-1)%4)] += 1/3\n",
    "        return prob\n",
    "\n",
    "    def next_state_reward(self, state, action):\n",
    "        next_state_probs = self.trans_prob(state, action)\n",
    "        next_state = np.random.choice(16, p=next_state_probs)\n",
    "        reward = self.reward_fn[next_state]\n",
    "        return next_state, reward"
   ]
  },
  {
   "cell_type": "code",
   "execution_count": 266,
   "metadata": {},
   "outputs": [],
   "source": [
    "dynamics = FrozenLakeMDP(is_slippery=False)"
   ]
  },
  {
   "cell_type": "code",
   "execution_count": 267,
   "metadata": {},
   "outputs": [
    {
     "data": {
      "text/plain": [
       "array([0, 0, 0, 0, 0, 0, 0, 0, 0, 0, 0, 0, 0, 0, 0, 1])"
      ]
     },
     "execution_count": 267,
     "metadata": {},
     "output_type": "execute_result"
    }
   ],
   "source": [
    "# reward function of the environent\n",
    "dynamics.get_reward_function()"
   ]
  },
  {
   "cell_type": "code",
   "execution_count": 268,
   "metadata": {},
   "outputs": [
    {
     "name": "stdout",
     "output_type": "stream",
     "text": [
      "0 1 1\n"
     ]
    }
   ],
   "source": [
    "# evaluating if a given state is a terminal state (= hole or goal)\n",
    "print(dynamics.is_terminal(0), dynamics.is_terminal(7), dynamics.is_terminal(15))"
   ]
  },
  {
   "cell_type": "code",
   "execution_count": 269,
   "metadata": {},
   "outputs": [
    {
     "data": {
      "text/plain": [
       "array([0., 0., 0., 0., 0., 0., 0., 0., 0., 0., 0., 0., 0., 0., 0., 1.])"
      ]
     },
     "execution_count": 269,
     "metadata": {},
     "output_type": "execute_result"
    }
   ],
   "source": [
    "# if we take action `a` in state `s`,\n",
    "# what is the probability of landing in each state?\n",
    "dynamics.trans_prob(14, 2)"
   ]
  },
  {
   "cell_type": "code",
   "execution_count": 270,
   "metadata": {},
   "outputs": [
    {
     "name": "stdout",
     "output_type": "stream",
     "text": [
      "15 1\n"
     ]
    }
   ],
   "source": [
    "# if we take action `a` in state `s`, what do we get?\n",
    "# this is done through sampling the transition probability\n",
    "next_state, reward = dynamics.next_state_reward(14, 2)\n",
    "print(next_state, reward)"
   ]
  },
  {
   "cell_type": "markdown",
   "metadata": {},
   "source": [
    "## Iterative Policy Evaluation"
   ]
  },
  {
   "cell_type": "code",
   "execution_count": 271,
   "metadata": {},
   "outputs": [],
   "source": [
    "def policy_evaluation(dynamics, policy, gamma=0.9, num_iter=10):\n",
    "    \"\"\"\n",
    "    evaluates policy based on Iterative Policy Evaluation.\n",
    " \n",
    "    Args:\n",
    "        dynamics (FrozenLakeMDP): dynamics of the environment.\n",
    "        policy (numpy.array): policy we want to evaluate.\n",
    "        gamma (float): discount factor.\n",
    "        num_iter (int): number of iterations for the loop.\n",
    " \n",
    "    Returns:\n",
    "        numpy.array: state value function.\n",
    "    \"\"\"\n",
    "\n",
    "\n",
    "    s_value_function = np.zeros(16, dtype=float)\n",
    "    for iteration in range(num_iter):\n",
    "        for current_state in range(16):\n",
    "            if dynamics.terminal_states[current_state]:\n",
    "                continue\n",
    "            else:\n",
    "                next_state_probs = dynamics.trans_prob(current_state, policy[current_state])\n",
    "                next_value_of_current_state = 0\n",
    "                for next_state in range(16):\n",
    "                    next_value_of_current_state += next_state_probs[next_state] * (dynamics.reward_fn[next_state] +  s_value_function[next_state]) * gamma\n",
    "                s_value_function[current_state] = next_value_of_current_state\n",
    "    return s_value_function"
   ]
  },
  {
   "cell_type": "code",
   "execution_count": 272,
   "metadata": {},
   "outputs": [],
   "source": [
    "dynamics = FrozenLakeMDP(is_slippery=False)\n",
    "\n",
    "# 1. go-right policy\n",
    "policy_go_right = 2 * np.ones(16, dtype=int)\n",
    "\n",
    "# 2. shortest-path policy\n",
    "policy_shortest_path = np.array([1, 2, 1, 0, 1, -1, 1, -1, 2, 1, 1, -1, -1, 2, 2, -1])\n",
    "\n",
    "s_value_function_shortest_path = policy_evaluation(dynamics, policy_shortest_path)\n",
    "s_value_function_go_right = policy_evaluation(dynamics, policy_go_right)"
   ]
  },
  {
   "cell_type": "code",
   "execution_count": 273,
   "metadata": {},
   "outputs": [
    {
     "data": {
      "text/plain": [
       "array([0.531441, 0.59049 , 0.6561  , 0.59049 , 0.59049 , 0.      ,\n",
       "       0.729   , 0.      , 0.6561  , 0.729   , 0.81    , 0.      ,\n",
       "       0.      , 0.81    , 0.9     , 0.      ])"
      ]
     },
     "execution_count": 273,
     "metadata": {},
     "output_type": "execute_result"
    }
   ],
   "source": [
    "s_value_function_shortest_path"
   ]
  },
  {
   "cell_type": "code",
   "execution_count": 274,
   "metadata": {},
   "outputs": [
    {
     "data": {
      "text/plain": [
       "array([0.  , 0.  , 0.  , 0.  , 0.  , 0.  , 0.  , 0.  , 0.  , 0.  , 0.  ,\n",
       "       0.  , 0.  , 0.81, 0.9 , 0.  ])"
      ]
     },
     "execution_count": 274,
     "metadata": {},
     "output_type": "execute_result"
    }
   ],
   "source": [
    "s_value_function_go_right"
   ]
  },
  {
   "cell_type": "code",
   "execution_count": 275,
   "metadata": {},
   "outputs": [],
   "source": [
    "# The value of a state s under a certain policy π will converge to the expected discounted rewards gained onwards where agent\n",
    "# starts from state s and performs actions based on policy π in each future state until a termination condition is met.\n",
    "# The state values for terminal states are zero since the agent can't gain any rewards onwards i.e. there is no future rewards\n",
    "# from these states onwards.\n",
    "# The go_right policy values are non-zero, only for the non-terminal last row states, since the agent following always go-right\n",
    "# policy can only gain rewards in the last row since the actions in other rows end up in termination states \n",
    "# with no rewards cumulated."
   ]
  },
  {
   "cell_type": "markdown",
   "metadata": {},
   "source": [
    "## Policy Iteration"
   ]
  },
  {
   "cell_type": "code",
   "execution_count": 276,
   "metadata": {},
   "outputs": [],
   "source": [
    "def greedy_policy_improvement(dynamics, s_value_function, gamma=0.9):\n",
    "    \"\"\"\n",
    "    obtains a policy in a greedy manner based on current state value function.\n",
    " \n",
    "    Args:\n",
    "        dynamics (FrozenLakeMDP): dynamics of the environment.\n",
    "        s_value_function (numpy.array): state value function.\n",
    "        gamma (float): discount factor.\n",
    " \n",
    "    Returns:\n",
    "        numpy.array: the greedy policy.\n",
    "    \"\"\"\n",
    "\n",
    "\n",
    "    policy = np.random.randint(0, 4, size=16) \n",
    "    for current_state in range(16):\n",
    "        #value_of_s = -float('inf')\n",
    "        expected = [0, 0, 0, 0]\n",
    "        for action in range(4):\n",
    "            next_state_probs = dynamics.trans_prob(current_state, action)\n",
    "            for next_state in range (16):\n",
    "                expected[action] += next_state_probs[next_state] * (dynamics.reward_fn[next_state] +  s_value_function[next_state]) * gamma \n",
    "        policy[current_state] = np.argmax(expected)\n",
    "    return policy"
   ]
  },
  {
   "cell_type": "code",
   "execution_count": 277,
   "metadata": {},
   "outputs": [],
   "source": [
    "def policy_iteration(dynamics, gamma=0.9, outer_iter=100, inner_iter=100):\n",
    "    \"\"\"\n",
    "    optimizes a policy based on Policy Iteration\n",
    " \n",
    "    Args:\n",
    "        dynamics (FrozenLakeMDP): dynamics of the environment.\n",
    "        gamma (float): discount factor.\n",
    "        outer_iter (int): number of iterations for the Policy Iteration loop.\n",
    "        inner_iter (int): number of iterations for the Policy Evaluation loop.\n",
    " \n",
    "    Returns:\n",
    "        numpy.array: the optimized policy.\n",
    "    \"\"\"\n",
    "\n",
    "\n",
    "    policy = np.random.randint(0, 4, size=16)\n",
    "    for iteration in range(outer_iter):\n",
    "        s_value_function = policy_evaluation(dynamics, policy, num_iter=inner_iter, gamma=gamma)\n",
    "        policy = greedy_policy_improvement(dynamics, s_value_function)\n",
    "    return policy"
   ]
  },
  {
   "cell_type": "code",
   "execution_count": 278,
   "metadata": {},
   "outputs": [],
   "source": [
    "dynamics = FrozenLakeMDP(is_slippery=False)\n",
    "policy = policy_iteration(dynamics)"
   ]
  },
  {
   "cell_type": "code",
   "execution_count": 279,
   "metadata": {},
   "outputs": [
    {
     "name": "stdout",
     "output_type": "stream",
     "text": [
      "action: 1, state: 4, reward: 0.0, done: False, truncated: False, info: {'prob': 1.0}\n",
      "action: 1, state: 8, reward: 0.0, done: False, truncated: False, info: {'prob': 1.0}\n",
      "action: 2, state: 9, reward: 0.0, done: False, truncated: False, info: {'prob': 1.0}\n",
      "action: 1, state: 13, reward: 0.0, done: False, truncated: False, info: {'prob': 1.0}\n",
      "action: 2, state: 14, reward: 0.0, done: False, truncated: False, info: {'prob': 1.0}\n",
      "action: 2, state: 15, reward: 1.0, done: True, truncated: False, info: {'prob': 1.0}\n",
      "total reward: 1.0\n"
     ]
    },
    {
     "data": {
      "text/html": [
       "<video width=500 controls><source src=\"data:video/mp4;base64,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\"></video>"
      ],
      "text/plain": [
       "<IPython.core.display.HTML object>"
      ]
     },
     "execution_count": 279,
     "metadata": {},
     "output_type": "execute_result"
    }
   ],
   "source": [
    "env = gym.make(\"FrozenLake-v1\", map_name=\"4x4\", is_slippery=False, render_mode='rgb_array')\n",
    "total_reward = record_video(env, policy, 'frozenlake_policy_actions.mp4', fps=5, random_action=False)\n",
    "print(f\"total reward: {total_reward}\")\n",
    "show_video('frozenlake_policy_actions.mp4', video_width=500)"
   ]
  },
  {
   "cell_type": "code",
   "execution_count": 280,
   "metadata": {},
   "outputs": [
    {
     "name": "stdout",
     "output_type": "stream",
     "text": [
      "action: 0, state: 4, reward: 0.0, done: False, truncated: False, info: {'prob': 0.3333333333333333}\n",
      "action: 0, state: 4, reward: 0.0, done: False, truncated: False, info: {'prob': 0.3333333333333333}\n",
      "action: 0, state: 8, reward: 0.0, done: False, truncated: False, info: {'prob': 0.3333333333333333}\n",
      "action: 3, state: 4, reward: 0.0, done: False, truncated: False, info: {'prob': 0.3333333333333333}\n",
      "action: 0, state: 8, reward: 0.0, done: False, truncated: False, info: {'prob': 0.3333333333333333}\n",
      "action: 3, state: 9, reward: 0.0, done: False, truncated: False, info: {'prob': 0.3333333333333333}\n",
      "action: 1, state: 10, reward: 0.0, done: False, truncated: False, info: {'prob': 0.3333333333333333}\n",
      "action: 0, state: 6, reward: 0.0, done: False, truncated: False, info: {'prob': 0.3333333333333333}\n",
      "action: 0, state: 10, reward: 0.0, done: False, truncated: False, info: {'prob': 0.3333333333333333}\n",
      "action: 0, state: 6, reward: 0.0, done: False, truncated: False, info: {'prob': 0.3333333333333333}\n",
      "action: 0, state: 2, reward: 0.0, done: False, truncated: False, info: {'prob': 0.3333333333333333}\n",
      "action: 0, state: 1, reward: 0.0, done: False, truncated: False, info: {'prob': 0.3333333333333333}\n",
      "action: 3, state: 1, reward: 0.0, done: False, truncated: False, info: {'prob': 0.3333333333333333}\n",
      "action: 3, state: 1, reward: 0.0, done: False, truncated: False, info: {'prob': 0.3333333333333333}\n",
      "action: 3, state: 1, reward: 0.0, done: False, truncated: False, info: {'prob': 0.3333333333333333}\n",
      "action: 3, state: 2, reward: 0.0, done: False, truncated: False, info: {'prob': 0.3333333333333333}\n",
      "action: 0, state: 2, reward: 0.0, done: False, truncated: False, info: {'prob': 0.3333333333333333}\n",
      "action: 0, state: 1, reward: 0.0, done: False, truncated: False, info: {'prob': 0.3333333333333333}\n",
      "action: 3, state: 1, reward: 0.0, done: False, truncated: False, info: {'prob': 0.3333333333333333}\n",
      "action: 3, state: 0, reward: 0.0, done: False, truncated: False, info: {'prob': 0.3333333333333333}\n",
      "action: 0, state: 0, reward: 0.0, done: False, truncated: False, info: {'prob': 0.3333333333333333}\n",
      "action: 0, state: 4, reward: 0.0, done: False, truncated: False, info: {'prob': 0.3333333333333333}\n",
      "action: 0, state: 8, reward: 0.0, done: False, truncated: False, info: {'prob': 0.3333333333333333}\n",
      "action: 3, state: 4, reward: 0.0, done: False, truncated: False, info: {'prob': 0.3333333333333333}\n",
      "action: 0, state: 4, reward: 0.0, done: False, truncated: False, info: {'prob': 0.3333333333333333}\n",
      "action: 0, state: 8, reward: 0.0, done: False, truncated: False, info: {'prob': 0.3333333333333333}\n",
      "action: 3, state: 9, reward: 0.0, done: False, truncated: False, info: {'prob': 0.3333333333333333}\n",
      "action: 1, state: 8, reward: 0.0, done: False, truncated: False, info: {'prob': 0.3333333333333333}\n",
      "action: 3, state: 4, reward: 0.0, done: False, truncated: False, info: {'prob': 0.3333333333333333}\n",
      "action: 0, state: 0, reward: 0.0, done: False, truncated: False, info: {'prob': 0.3333333333333333}\n",
      "action: 0, state: 4, reward: 0.0, done: False, truncated: False, info: {'prob': 0.3333333333333333}\n",
      "action: 0, state: 0, reward: 0.0, done: False, truncated: False, info: {'prob': 0.3333333333333333}\n",
      "action: 0, state: 0, reward: 0.0, done: False, truncated: False, info: {'prob': 0.3333333333333333}\n",
      "action: 0, state: 0, reward: 0.0, done: False, truncated: False, info: {'prob': 0.3333333333333333}\n",
      "action: 0, state: 0, reward: 0.0, done: False, truncated: False, info: {'prob': 0.3333333333333333}\n",
      "action: 0, state: 4, reward: 0.0, done: False, truncated: False, info: {'prob': 0.3333333333333333}\n",
      "action: 0, state: 4, reward: 0.0, done: False, truncated: False, info: {'prob': 0.3333333333333333}\n",
      "action: 0, state: 0, reward: 0.0, done: False, truncated: False, info: {'prob': 0.3333333333333333}\n",
      "action: 0, state: 0, reward: 0.0, done: False, truncated: False, info: {'prob': 0.3333333333333333}\n",
      "action: 0, state: 4, reward: 0.0, done: False, truncated: False, info: {'prob': 0.3333333333333333}\n",
      "action: 0, state: 4, reward: 0.0, done: False, truncated: False, info: {'prob': 0.3333333333333333}\n",
      "action: 0, state: 8, reward: 0.0, done: False, truncated: False, info: {'prob': 0.3333333333333333}\n",
      "action: 3, state: 4, reward: 0.0, done: False, truncated: False, info: {'prob': 0.3333333333333333}\n",
      "action: 0, state: 4, reward: 0.0, done: False, truncated: False, info: {'prob': 0.3333333333333333}\n",
      "action: 0, state: 0, reward: 0.0, done: False, truncated: False, info: {'prob': 0.3333333333333333}\n",
      "action: 0, state: 0, reward: 0.0, done: False, truncated: False, info: {'prob': 0.3333333333333333}\n",
      "action: 0, state: 0, reward: 0.0, done: False, truncated: False, info: {'prob': 0.3333333333333333}\n",
      "action: 0, state: 4, reward: 0.0, done: False, truncated: False, info: {'prob': 0.3333333333333333}\n",
      "action: 0, state: 0, reward: 0.0, done: False, truncated: False, info: {'prob': 0.3333333333333333}\n",
      "action: 0, state: 0, reward: 0.0, done: False, truncated: False, info: {'prob': 0.3333333333333333}\n",
      "action: 0, state: 0, reward: 0.0, done: False, truncated: False, info: {'prob': 0.3333333333333333}\n",
      "action: 0, state: 0, reward: 0.0, done: False, truncated: False, info: {'prob': 0.3333333333333333}\n",
      "action: 0, state: 0, reward: 0.0, done: False, truncated: False, info: {'prob': 0.3333333333333333}\n",
      "action: 0, state: 0, reward: 0.0, done: False, truncated: False, info: {'prob': 0.3333333333333333}\n",
      "action: 0, state: 0, reward: 0.0, done: False, truncated: False, info: {'prob': 0.3333333333333333}\n",
      "action: 0, state: 0, reward: 0.0, done: False, truncated: False, info: {'prob': 0.3333333333333333}\n",
      "action: 0, state: 4, reward: 0.0, done: False, truncated: False, info: {'prob': 0.3333333333333333}\n",
      "action: 0, state: 4, reward: 0.0, done: False, truncated: False, info: {'prob': 0.3333333333333333}\n",
      "action: 0, state: 4, reward: 0.0, done: False, truncated: False, info: {'prob': 0.3333333333333333}\n",
      "action: 0, state: 8, reward: 0.0, done: False, truncated: False, info: {'prob': 0.3333333333333333}\n",
      "action: 3, state: 9, reward: 0.0, done: False, truncated: False, info: {'prob': 0.3333333333333333}\n",
      "action: 1, state: 8, reward: 0.0, done: False, truncated: False, info: {'prob': 0.3333333333333333}\n",
      "action: 3, state: 4, reward: 0.0, done: False, truncated: False, info: {'prob': 0.3333333333333333}\n",
      "action: 0, state: 4, reward: 0.0, done: False, truncated: False, info: {'prob': 0.3333333333333333}\n",
      "action: 0, state: 8, reward: 0.0, done: False, truncated: False, info: {'prob': 0.3333333333333333}\n",
      "action: 3, state: 8, reward: 0.0, done: False, truncated: False, info: {'prob': 0.3333333333333333}\n",
      "action: 3, state: 8, reward: 0.0, done: False, truncated: False, info: {'prob': 0.3333333333333333}\n",
      "action: 3, state: 4, reward: 0.0, done: False, truncated: False, info: {'prob': 0.3333333333333333}\n",
      "action: 0, state: 4, reward: 0.0, done: False, truncated: False, info: {'prob': 0.3333333333333333}\n",
      "action: 0, state: 0, reward: 0.0, done: False, truncated: False, info: {'prob': 0.3333333333333333}\n",
      "action: 0, state: 0, reward: 0.0, done: False, truncated: False, info: {'prob': 0.3333333333333333}\n",
      "action: 0, state: 0, reward: 0.0, done: False, truncated: False, info: {'prob': 0.3333333333333333}\n",
      "action: 0, state: 0, reward: 0.0, done: False, truncated: False, info: {'prob': 0.3333333333333333}\n",
      "action: 0, state: 0, reward: 0.0, done: False, truncated: False, info: {'prob': 0.3333333333333333}\n",
      "action: 0, state: 0, reward: 0.0, done: False, truncated: False, info: {'prob': 0.3333333333333333}\n",
      "action: 0, state: 0, reward: 0.0, done: False, truncated: False, info: {'prob': 0.3333333333333333}\n",
      "action: 0, state: 0, reward: 0.0, done: False, truncated: False, info: {'prob': 0.3333333333333333}\n",
      "action: 0, state: 0, reward: 0.0, done: False, truncated: False, info: {'prob': 0.3333333333333333}\n",
      "action: 0, state: 0, reward: 0.0, done: False, truncated: False, info: {'prob': 0.3333333333333333}\n",
      "action: 0, state: 4, reward: 0.0, done: False, truncated: False, info: {'prob': 0.3333333333333333}\n",
      "action: 0, state: 0, reward: 0.0, done: False, truncated: False, info: {'prob': 0.3333333333333333}\n",
      "action: 0, state: 4, reward: 0.0, done: False, truncated: False, info: {'prob': 0.3333333333333333}\n",
      "action: 0, state: 0, reward: 0.0, done: False, truncated: False, info: {'prob': 0.3333333333333333}\n",
      "action: 0, state: 4, reward: 0.0, done: False, truncated: False, info: {'prob': 0.3333333333333333}\n",
      "action: 0, state: 0, reward: 0.0, done: False, truncated: False, info: {'prob': 0.3333333333333333}\n",
      "action: 0, state: 0, reward: 0.0, done: False, truncated: False, info: {'prob': 0.3333333333333333}\n",
      "action: 0, state: 4, reward: 0.0, done: False, truncated: False, info: {'prob': 0.3333333333333333}\n",
      "action: 0, state: 4, reward: 0.0, done: False, truncated: False, info: {'prob': 0.3333333333333333}\n",
      "action: 0, state: 0, reward: 0.0, done: False, truncated: False, info: {'prob': 0.3333333333333333}\n",
      "action: 0, state: 0, reward: 0.0, done: False, truncated: False, info: {'prob': 0.3333333333333333}\n",
      "action: 0, state: 4, reward: 0.0, done: False, truncated: False, info: {'prob': 0.3333333333333333}\n",
      "action: 0, state: 0, reward: 0.0, done: False, truncated: False, info: {'prob': 0.3333333333333333}\n",
      "action: 0, state: 0, reward: 0.0, done: False, truncated: False, info: {'prob': 0.3333333333333333}\n",
      "action: 0, state: 0, reward: 0.0, done: False, truncated: False, info: {'prob': 0.3333333333333333}\n",
      "action: 0, state: 4, reward: 0.0, done: False, truncated: False, info: {'prob': 0.3333333333333333}\n",
      "action: 0, state: 0, reward: 0.0, done: False, truncated: False, info: {'prob': 0.3333333333333333}\n",
      "action: 0, state: 0, reward: 0.0, done: False, truncated: False, info: {'prob': 0.3333333333333333}\n",
      "action: 0, state: 4, reward: 0.0, done: False, truncated: False, info: {'prob': 0.3333333333333333}\n",
      "action: 0, state: 4, reward: 0.0, done: False, truncated: False, info: {'prob': 0.3333333333333333}\n",
      "action: 0, state: 0, reward: 0.0, done: False, truncated: True, info: {'prob': 0.3333333333333333}\n",
      "total reward: 0.0\n"
     ]
    },
    {
     "data": {
      "text/html": [
       "<video width=500 controls><source src=\"data:video/mp4;base64,AAAAIGZ0eXBpc29tAAACAGlzb21pc28yYXZjMW1wNDEAAAAIZnJlZQAAsExtZGF0AAACrQYF//+p3EXpvebZSLeWLNgg2SPu73gyNjQgLSBjb3JlIDE2NCByMzEwOCAzMWUxOWY5IC0gSC4yNjQvTVBFRy00IEFWQyBjb2RlYyAtIENvcHlsZWZ0IDIwMDMtMjAyMyAtIGh0dHA6Ly93d3cudmlkZW9sYW4ub3JnL3gyNjQuaHRtbCAtIG9wdGlvbnM6IGNhYmFjPTEgcmVmPTMgZGVibG9jaz0xOjA6MCBhbmFseXNlPTB4MzoweDExMyBtZT1oZXggc3VibWU9NyBwc3k9MSBwc3lfcmQ9MS4wMDowLjAwIG1peGVkX3JlZj0xIG1lX3JhbmdlPTE2IGNocm9tYV9tZT0xIHRyZWxsaXM9MSA4eDhkY3Q9MSBjcW09MCBkZWFkem9uZT0yMSwxMSBmYXN0X3Bza2lwPTEgY2hyb21hX3FwX29mZnNldD0tMiB0aHJlYWRzPTggbG9va2FoZWFkX3RocmVhZHM9MSBzbGljZWRfdGhyZWFkcz0wIG5yPTAgZGVjaW1hdGU9MSBpbnRlcmxhY2VkPTAgYmx1cmF5X2NvbXBhdD0wIGNvbnN0cmFpbmVkX2ludHJhPTAgYmZyYW1lcz0zIGJfcHlyYW1pZD0yIGJfYWRhcHQ9MSBiX2JpYXM9MCBkaXJlY3Q9MSB3ZWlnaHRiPTEgb3Blbl9nb3A9MCB3ZWlnaHRwPTIga2V5aW50PTI1MCBrZXlpbnRfbWluPTUgc2NlbmVjdXQ9NDAgaW50cmFfcmVmcmVzaD0wIHJjX2xvb2thaGVhZD00MCByYz1jcmYgbWJ0cmVlPTEgY3JmPTIzLjAgcWNvbXA9MC42MCBxcG1pbj0wIHFwbWF4PTY5IHFwc3RlcD00IGlwX3JhdGlvPTEuNDAgYXE9MToxLjAwAIAAAF+BZYiEACf/mvea/+epdOBatLV5W6EFApa6buP7HdUkBd1MbwnkD1OMy1+TtaM/mMj4mKHwPsFeXPWUetvCVKK6C4l1ZiGkOwCbC12BMxkAXHZsGKkdmyfrnocNGGKfLLtmnAj+I/0nzr2bbVEJfAOUgm3qn4TpI1AMAA7qIeyyHVugqzPIP2G8mc6AyaZrd/bDzocfBy6/uOZn+nRGjYnw3sJ5JBagfriaXTLulDGpA7RgvTc4n7piJTgsoDQCLBMuNny/7hd/8JgNvppMB9OvYIpqi9A1hPY3MZN7nKOiKKXnO0EPmOeMPv5lV2Car3G64OzVxgm9sbs+jiOzEe3tiO7ywbq2jvbsjs7kJvtC+ScoEwEMRFUaP4THxnYQ9NwWS+tMINj8EdXPTkmqZC6ylsCKQB++VCi8iS9Py58KF0YWKUAdagBUw67ocVQr9wRLA58/7RhWcy21nJ0IX71Sy+BBl7xCoQASbLZ6fBq+JfzKHvBy5q8oN3wXCBnOWBIT4iEo7bIZA7m/3EtmJPeoSvzCf9C4GCoWdccJiBwRGMdpRlthgXMpnFs0KhWYINRpGM4595IQutix7vJCzPJKIU24ravUWO0VHbQAZ3A1paDHB+H7A+8P8OelzLdd48dIGZxCOZT7UJ4GOELMuZZnhw+3T53E3NIv94pMVjhUOAjOoRS64beRLqff8a9ZroL+kzypbqgasl8BYAmSSUAIrpCt0TgtHb61y6kra/krD2+gtoBpHHbYksHqXE6Na8fYMlfWjbyx5tBAIwxC3nc4abVgAwz+tbjNwBdQFgMmDQbddbYrjWvfyHKat/oGxCUzdiM4zlnEXcUxEPrnEqOox/lqEN83uHDAJlL34eC+dkFdkPgd2pzSucFGAkJgjGqbkMpmlRttbrur1k7TQQWOdKXvA8+74Lg6B4OsaJcLHL5EcJgUEFH7RsN9kLBDWg1s/JhbJf4p2GDlFuzK1CNf+f+YMKA7+VBegXHBOxAsWv3S2go7VA8PSlFop0Joj5Ws+4Qu9a4kcw/2JHTv/jHUawqQnHC8ibB1iTCiKhPED7BSQfXdNH5/d/3Anfkv9QJSPhWBsTyg2sGM8za/VQOZoYf/vAXuDD67jdpTatRouPmHOVQ2tguNwoj7oi4r/F4WFKB1UvL+STcBiotf8qbcvZLjNqlWGSSTnwwJXJfiVPeXS7+fAmd8XMF9M02EOfiLHIdAfztGWrHjI+3gZQBGhmUab+ko4NuutsUzpNwAH0mZ17xLW7Mbv4tPIXAZ4HP/+6NBOAuKL2hL1eoHXpREeB51YrXKikUYAw26eNeN1WMe9d00uVqXmTw5tvreDfwwKO9+AUpuhz832fd8FwW+shSJck5kF7YcIw35t0tg8mQSmdcbIo4mWQrcoQt2XXR3o3X8yClnT3SsTuBZ2zjgpcG7jUhApVMWlGnXkZ2i5c9Qac3b9whd61xGXimugdnYmGdlg8xailhJokdpMSZoI+8y66hDBIPl9amZv/fR3J9n6SR0VtB0j8gEhl0UdddnlX1huJWImBe4MPruyFKx5uacac5s3lzus5haycAp9Aga4VXMaqXlHYFD2U/sKNuSsD0layNpxxOvlOrGAFQvydq6xolLlFpSvw74wAU5G6GWjED+EdcpYPocaI5MUq2AQdPK83BtjHkexQZr+vYQMZJi+DJ1IxJdo4sRuPmWoF9ZfEBds5BOB+EoeLEHy8/g8V1oBG0Y756z7uHAidWWqxjhg/1SxaB4jUYLzyZS2meykNRwZXJMmcRBsEJCYytvRmPx/GU2bzcdofHJovGGUiG3KBNaHiR67z3xQHV8Iuu4s+AE66WgmftwT6dPF+kVdzTc9vQDaySoKRvA2WmmUbeTPPbg76AepIznycUXEe3aTLKvn9hAY3MI6m8+6QnjD3UsLqKzJP8SQ6mw1WgX2WsRmbYCYUQCC/9aJXm7wxICeySiJjr/wbhY/qEL7XhpU/cHIUC8Xw+qdUWLBb302OHVtD0WM6lFaW9w0unK1MmE8wa4k6SokDMzR1mN2MSu5YZWbR0yF50qtyXyxEN0cP80P0JBzr6vDffKYZsr5xxzqFeijpSOIWJyc/lfX4qQSKCzQztsDG1GMRCVsVLaxBOdDfNPcNRLH4CeZz3Zc3LJfy55nWUiBoUGk6yH6B+cX1qsuo9c8aRWFdo33cp9LyVD3SfMTpiRfYJCnfYPCSMOUkFKaEh+Jm4TLXa8bLryPmTcSS8jqCxH7YiuILsMG2hfVBmKiMu4BhAc4gRSdoB5yq/TDjIt3joPb85cz7/vrgh4jC6ERAhbtg9edcKwhpnM8x8U9R85FknazakDHulR8CGK4Nkn8UJSzmwqopg9aITJ2c5r7sQwD0wKvynUN8mljKHiPMyegYMPfJfilUleZ4VTuSY2iSD1jt+3Qpaj+XoFdiPS16TveragTnySz+6OrK5cReZAcJYEgcxeIVjH06ouqVolHA6n7k1kgcZR557FXhfKTu6gcCH+5NRKkCqgfEJtRO461K4qcs3bIZ6RNwIGzMi0oyBNzi2C4LAvoc3qPYPxbtVBdSHo40VXO7IgXOTBdgNZEfwFGQyzcoEHB8lf/66O4LHilf0pCsyxNpKHfh0xD739IiXelORJiG0jUOHv9GNl1P1PZ1/4Ka38lzugiZqcJ0JdIQViklt27MYpXUR3fALmzo5PgiGfN4zsmDDSRc7pW3rgpTNoN1crjUxh4wDP26V3bI4oIJsvVdXQm+o6IMvoxM+2M8iSVgDhMBz9OMb2kuj5BH6zfu9egODjC8HGnntjcd+kMLlv+tZ7DX3qQJhSHQE6FByZi9tL3vzAQsxZ6qd3yRuX3rPpb1V5xQ4eQDAS0uBCznhatCgQ4c2yU2K1o1QdacZJ6mR2z1banNzGRU/UKb1XSGSJS12xy+8Lb5SFeGbD+J2PMLKsyEOIUpqkAtDSd/pqhxEE4EdqRfDD15dE/RKB9V6UhWfYYvryHaIZ3KNdBTmsxsIQoMeUGkEkqgf5sOxflDHmVp1zy2Q5m0Z0NFnsma8elvsbxyKI7inMl1mqrd+lk+Mg2jvSTCId7p2kgh0bu3yf4nx6kQeOo2IjF5l9cX6obVeaJO/TwEz4D+n+Qd+glzr85JydjYr1TsukC0VO7FTU/1FOIBGHbCdr9F+cZjDXV41WQT7kIJwlqo2B2TPy3FrHvbq/QXx8RqYgBnfftbiqPYTm1ULYPK3ZWzuBg379GSGCS2kvMy82xVZx8CyHbKYcGeX68o71b6KUKI0axmqN8DnrkWZZ9QCiFsD64SVTONHwA5BjFoAMH1kimuz09qPpaf+I9hO8rLBngLuzEPcSUhjvTS4qC2CVfDRmnKfIILMOhaax2UlMLIqIDrMYySODDUYVCnzguh/JUJdHcovW1qT0Ks2qVPXXJ/MwkHvadz4zCpJbWQAoS2jfrjgaM1yCH5tdHA498XlswLKSXOXESa7RM5BVqiip6tSmGVOw73GgXPSTZjBvXVcmXIarHmqd5By7kZLwwDYvO47vJObv4x7XwKgSXCTwrphRHcXCs4rbkBBYXkqrzr7KN0LGGt64zIE1yJO5NdIlsS+B7otZUFa30Md43w2154PIg0J4IG0+Xmbs8//jwwUh0jR7FMu/8fptElSYWeJq15CHdQFvr5KzyypcNKp6t6JrQSzPfI/eSydpqmi4Du7YjGH1Uo8Sp9cnqDAANEfjtrzMl72Nmg7yp4KMKW7qVARQZrukEQKbe7vBrj5gN2TsJ17krNjYjba48X/MgXjF7E4BPgvKZtnKvlnsDRfHR7AQa7h7EEY/g34AmN5EvTeq5Ozk7BqONvss8Dp3t+yXZoT9uceqW9dUi3zFiid+xKXzycRauAsOySolrnWVnxcoXsVKS/qv3rJ9RsKn241ikHgRAEM/pCM8hFELJcpz5vfaO9faZCZbJYpV+ovnASgEeW3jiZWmEcH+wfDQ4XOmkSGFShy52LCAKfVc1CgaKh+K3Cl0QADTXRaqznsNmlDp8fo0glv6wTvc6Cg8v/3nltcA6oD/WMq5+a7oRHlf2r9YdLbNapT+HxY5kJL+XEPzPfORmBIGFZf75zK+Tmvvxa6k+OMv5euXxEeLjIM1ZAGS3fnzBQlC34n8eAlizuch44U/RSuyu3LnMmFq5t5aSCWyXUWqoEy/HYiHQ/S80WUYak9w+RRFkGRzEmDP7zjyWF/sn8QVXSXRGzBrasp7kn/23Lw4JKW6pCMObSR1mC54GNXF001b/ui/xxBZcl1oOXjMVsN5wJXU1WpLvz/pTPdUsv8L7Pr1KsHZEJIne4RbPt9B35/mtllw1HXI0Z9G5CO//3RfyFPG+vSJgxBWI48VGBjiBf6TGyToNtXhsuTskPQc+c12nO3JrKEhtlZNUE4cCo3EB82h96twXUwnCdMmq1Qd4KRiFykB9WWJLCcwPV4YJI7ERbbd1qBonE28HD9fvoagzxlMM/JAXtNOU+F/5i97rIELRJKVkY1U2AKfJ5S0egZhbHIGkiFjTUxp57NA5FWqdmLvZvtIU8u0YsWY/xW6e/IQgydxV0VvbSbuFHT6yc9PuZjvN2nW1Y27ACC1JNmLsLMewmqq9l/QgP82TWpeKI86oBeLAFYpE8oQWDEVXlq4rT/TEZSEkR8vQY20Cd8FbiU/ffMLJ0xDhhq5YEdaPluSsBuucjBXRZ0osrcrjknoRUnzLTTcuCEcDDNk4csNLPywBd9YD+EFoWMbbBMNBscAHUjuYwSUqIIW/8wPnlLBwVFdIKIVSUOLXwFEZCPCiPDw9+eTC9QiZTJdbdZvcmOhKd6cCqA9j5z4BmSvpv8HQfsRA4w7u29rnV/COKXm1ZVFsKHkr0xBwSC9vJaCxE3lvuZ47//uGfXdPVx9wZ64Dpktml1tyvnmDJLJzOx3WphnPP4VfEKUYS3E+1uFjDrouJKpL07LyTFu+aNF/D8ZtHFSIi4KuZVKJ3w+jWyp2wcRCludy9FNrxXNsMdEHYFCAIRpvDKb3Fsjju6xtk5VgjbOj/pWvpyTczm7TPqUJrtmU064K8pZMzoJ9hawsNIzJDGWyIncnP8tcswxt3hpSeCGBq5Yw2RuZgJn13xg63XOTbEUwccLXvJk6uQELJYzw2ES/Bg1U0l2bbE/FPv+0Hm1p20WiXnEKKSRSnSVGDPYPBBCEEa1b6fFpAfzLgUPS/83Yf/F62PrKHXCqT0zVI2G2TZocnQi8yAW2DHRbl3UP6U1G5LvwqQTslJR5YugD3oZTMNKZ/RSTYpxOnoKAuwoF93HSAnrEzXGxDqGZPYhnS7A/6WOEgonbv7k55BTdM3dSUMjhwDDKLFsAnycVFobPYUW24IMD0B5quINA2kmFHIROWADJHuV4h0i7NSp+RCWx8JScf+bOCMx04RhhZOWWmh4WFPjaBjQdM/j8O+5/gv2fL5vGz1ddIhjJVTl4TAhlcjygjVAztXVfmrZ4bq2sPr0suDDdMhK4W/Sq0BHM2VEi63XGxdffpW0FHEjGkHtOuEoxrPqWvSKrZbAIIsbjOxmN+DyH7x1gTGp0QKuLJbcI97ZNhtAie+XZlaXQ0skgyeFEXef/hJGI4mmd88muEswxjlD2I5RIhB3KOsIL5nmk9zhY4IBZTAoPPd4KJRaeADzXf2cE55/n/Nd6yfk2SdMWvT5AM4BAKoIbbKHzLNAc58lT105EAqZYZ3H4CGY0W4Z38mP4uUnapQ/VdcY8iAoNQ4cMIm62Csq7XkjJAhze+QZCH3acu6uvUyScsLQQdKmvtWRBEux22ESYULuQJ3+oLfNF8DYV3rCt3HWvACU/rtOYZ0D6nFVllYFM1mYTHitiSPztyhm6tWbgWntjiwLBoB6vGKaXzWePZaET+gY7LqhQEW9Bz07165B9ukYQNIQZjrJQ++IeMRvThNzLl2/0eRyadXT+0EM4XoD2NX7Y7k6vl8g1akDzghtWEAYtgxT5kdgBLCCy4HN4Aj0CyGgqAl8fQSJN6qWt/N/u3OkY3rjVYxr8BIiok++KpbVe3uBvD2Kaly946KwiIRb4rqlccZ6PDt9bxTNwWY1xJhiYxwjxUZ7yTqBDPUXU9uXQbt0SmzkBwb8JRt8FBdZOCLr7ixhk57PVp5+z3/iGV05RO3Mow3uOqyGTNGTva/o+fdseD6cNX3sT28WSPB7C9OL5skFxEmoAv5+cw0+UNLkaeRCDVhn74FojJdUG9jErB/IqflP2xF0L3Q/gNDYSHmtweFoUSUQy/N7Qt1sxvTciA2cNY0m/qllCuxs7wWBOoTogF0coLy5jMsSJ/qsqONyG177q0XlYMh+CLtazYA8wiI44Fcz+1qlcv6VJVaiEzj09xlVA1e3rDXwd4hITOvYuvb+taf2/mJo3xKUi6+RgXFqmS0BqJgQA51Kwbjg6B7KoLNPgpo6E8loIw5hF3MTTmpXV79IaUZD2MCNz7MJLqOKAygG9g1kbUPev6mvxE+miD0J2mpLGycAOeKdFL5IQzsGPTcBTgGipK0Upa31bnEv5IgsGHaCQRggmFGz1+w/VqACVLvYCU5iRsCL5IH+xckQNQyvA7OoxkNWaCthSIy99DLf1yXZpm8SbroavV0LYANlUf6mRwr+fGskdF+RLM+3FoCf8rP3N4qkc71OG+iviK+/jsVpW2fX91NjRhk+xlmlUtZxcpZCZ1wvAPcKwVg6DUQaIpK6Jo7sdkuiHCmK9JUYG2p2wxBtKnqvtETm8s0sJIg87jDF5fY5vkoJuShGXC04DYG42U++eDF8nCuYgpeSpdY0t3WtrlhnhA+F9uzvik3SySp23RyYWY1cNg7XUD1mQ7N3rWf3NM5jl3/Do4GOqwmlGFPZHSF7tq0sgB6NVA9ehsS7YppaWqj+lrPjdtBwMGWeggw4nayzC0Gn0UtYNCccYsEibNY7GKDxjPhzPr7gO8fU4Ac8aj07yLiuAw6qjgdGOgZo1eqfLN3aD3jh3Na/jDFWYmru70gnLq9SE/qa531ZcLZFehqtqVqFtA576vTXi6wGYDbCsD+k5LUr69ybShpeJN10NXKkzB/T/cSXbbQ83af9nJEcVygo66JeViKJ7/dJ9rueIDH0YxRm+GOnBmoc46yjijsx51khQUyR5Dp0Sb83bDU3XOq1oGh8bFKXM6oXJARv78nhL8Ol46jRjb+zLy6RxOWENtiTwIFcrX4JOuqhjEDhCHUODOiFcnfnrAAjQgfrOECECfUSGKSaCwDjjqBX3veAwZrAuN5wKb+mhBS203duXZtGnSIR1y8zJUJKsvM4mPKqn0L4R7QliMw+32IkuC7QjN+83uiabt8GfpYFIXzS32SPf9Evb2nw9jCI59rmJev2CoB9zE8rSGhYTReQ+1r8WCFltzkK+I88rzX0TKb5UJzGVL6zrOfEqvbYh9+dR3JF8VCEzjfmIXXbjIdVSNmJUj5Mp7GWzWGDxLL873Q55AyzxVdrBy/JfYedOHhFJ4rUyoqkeevCIECqtNc2INhxLcsrKOHjt9F8GXBENrNjAm/WMR9bsxH/FYEr/kxBbJ628B4Pvd5YAI9KRnwlctJSx637gJVqI4UMhmrtZ0jIi59TQLTFF3jJa5Haw5HKs5FBuFzNl2PasN6rcFVUv6jyGYisQIDRKUivmjrz/55fapTC7lq/Q9wEq8Wg5YLywH2m6R51M4L1CoiRemXKpBRknHQfNcReME5erY3JbIk9U88EbVzwUqvfCXj6cI3QTZPSbUg2nnQE34klNbJ60bgp8sd5CQdKaIbr9Cu5PSDYRpo1zVtXGx/BJeLg89+DngWxQYANiXdzw8UQnzI9X4lsP7gWkhK+X4PpyGiqFb13wQ6syTAX2mk8r17FVxJndAZGh51WZ9iPNcZGmMFd0OFtQ1DXfScEv/0D8tQvriyYk3cvJ0owfzt3LnBcTfimLyEesYy9XqOwuMJHDACadq7oLDtbgnKErDnDelRSVkPzz0fpgjk0fH6iiA1ShkgWeW97g85rrihLxmEMzaSX0+pQW4YPRp+bZWavcUh9fSPFtFnF38vVkwgmkbVoGhMqMko8QoP+S3QA8YxBhr/BOhyX9tb3ucXiCvMFhtcW4XaFLNYK58ZONSIonv+d/IcMHS7rABKjeCdfuZCzzUmKENAnlAaUor8L8zN95gbzrZ1yeKlldzgULesGBiQINdg5z48w0p5ANI0pfrLRyy55xGp6g+Snm4LaCbwQjYNiixp3kxjHP0R8HPxlMHG90kD0+EvyKtEX/SEPsNv8t/+OKRDisEGy4TFx8C5sUVEpNy5hHxxg5ukzyg8sOK7icsfCV0wsPV28bKdumX7r3nZ76RedjjxlalhxRO0BSk3qdjmolsw82uVE/VN7T+5YUpynu8FU14I+hTqeNXNQtR2GavBjdG3N6eZPIZnJao4kK1zG5qHj5y+essquYZonj14eGJamBQfTmi4W9oR9nZbO3eHXq3US616lKmSR3pLiber9AcuanAH3BS+274ezA1kinoRVqOPXAtqBUONAOgiuDSmIMCVq5PxLNS3ASdc18XwNiupFSNSnyJnn7WPkWGNssX/KcObdu2DybWcziDWFa/Q6y63LBVOIVDtP7ZfzB8UgIhUeXDFqBt+1OuPsiUF3EpB/LkSIE8EJ652H/RnddxLsOLYL0femfSD9QE3FOU/Tr+0ZotrdgfJ+e1pWKbBC4EGWNBMvNXpO+b2b/xQRJj7CdBwMPKaRW2CBpINzeoAvUgFKiy6ZMZ/LaR/xdBKfSEYl7W2ah9qi05DwvpF7OGOend1vSWWzPAaV61ZWU0DzAYsu0Equ7sgcO2XAE+X8olx6hfXJ/rle6cGeWbd5sr62/PdzHGUOZhxeB69Z2Y60FcDug4J48ODITTjAfT8K/d/sozzo/3sDlduqwrGVTJG1VZIofg/8nOSFfbkKStVud8OWY5RTnITPGRfk3cxLQsLVCl8h7tkqtWvhQ4gtwG+AMbW8LrAI4WWpfuqKV3WcuViwuL2LOmBox5K3yNX2ecoUfcvqC/b53eLPmIqDtczQMuYc4MsvZ9Xdz9txPHsg5pzgFgH5deu8NKF/iU4Mg39COQ84T5IWJYlWfn2XTZpUvx24fa1waEO7Eg6fezZjWr73a3hE5udI7kyYhsgUuFg8eL7YLVHuPMT4aBsQsnoLvIi9q7c9dSHZzO490tvK81ceEMXSzYzkcE4w567EG10ooHvHTgMTFlgv4gjE/zRz8G6bnMd0p5cLRHKOVFhVxpcnwrmHAr5o2ProbyWgWide8J7ByQMdrTXuR5tnuQESlfl2zqUVq97NwgU+B7NBjSxSaCc3w8dDpLjDnE3RweT+/JY/0CMHsyJlN5Z+8eLgfVvbYc2FNUUz/KAx/IwUMNptCYcgFUT7gBOkIPCeiAaA7iQGZNHBy2tDQubnSMNfdz/c1SG6fBJ1JNNZsp0r2n2a3GBrrmN822vKVImBIlYV127CLqMhLje6t0hhkUTFB8uHCu+fAiPgtmkd/5zU48j5pdZt7IxxNRfN8vRWGxUVn5JHRyxEP+YP1oyVCRUSC4A3TGGtIm6TyOvQOt0GKDXduD/I1/WcPWlTO3GK5JD9UuDAW+9hn8RtDIQEyo5PyCvJBd1WxF369v3OSChnNuex7Ru900/KHNB9FTz3UjgDG86MswxFPZ0rfJDJWjsE3obrh2Gs5WY40GNB8+4tRCtBv17Q6Em2ckEwyoTGo5DzKQGNnDpZzfEuAwvaPnin7p7jccPb8QGjUeAMCc8FBWTvm6MOd/o71bCftLw/4qwmtZ3pTZ1/2b0BwO0VcVJX/xS9NzSM+16SRSzWaG9FOkjmbol3q5wESe5af+3K4q2P9RYx+lpCOlUTa5PCez7+CKjWhp/P8dsQfLlr/abRryFAR3+WGRZYYkFyMBPIT9N63Mmp8suV7GpsJn+s8ZA6anwQZK37SKX9WqG0DvcSwH4yKUvjBQd6PycRaYSC5nzct/1hIJcN/0O5MDH3d1Km3MWT4zoPbKcSr8Yhv0bAObwby9WvSOfhhBVo4FiJPKVee0rQPfbfNJz4McMConYpo6b3aLDkRfdQRJw/0bTMXTlTsdEpz2tW9TidwXQhgwf5EU6XaQviKayy0SLTVrxKEZzZQjf6sMz1oGaR90ST8rOUluVfGzm5/K3JvuOmJxklTS13QfJkeBIoXQ4H6s6tYW/ZXlEzzOT6rtF6ef9o+W9zG+v2tbhMPAWii9gt6C71BvJO0sqi8uXPEUIYiWmIqGi60LT0HwdBNZzcKMo0ytff+9rj5esxacrGrBkrasywmS/4WwOwDNdgEllPL+2fH03EYFmN5uTQAAPBPE6Tq6+EYvnb2Fx1bOsxOuv/toaCJrVg+a7aQshGaZTxNpDl+wTHtB3GE/BWRyaWTsIqRR5YqPc/7VK2kBC5jnFUmK213APKT54+7M1yq53kpIJ4v5OtrDj9gZ9aVKYzpY7HjhLDt3ubviGqGojXeJ4S62U5TEJx7dQO45ya+xQ+NpXgzkN8eYqqNGFUI/UHkwYZBhMCj87QYHlDPaIlVCawlOrfaCCo/Sec5mRPDNzTSqRIuxoVdXgd/o+o1DerfqYp8dYOp8WoS/14cFeZ2q1ZK9poDYAmuAlr6/nwStQzaKegRt9r8emhxwLK9Ofrr0uGDkITJIv39M+GEWDlW4Lqkn7kG5ZPv6lS63wzF/DCePyKwglj3istYueLA+VEffvgejCmT4cetKImVqoaG0NsLoSKhNDDKVAPzWC4K3xdCH1ARoJHCHuACeaIkMRKZ8FxeZAhIM2x+/ajwfEbO6ElMq/VCAr3hA9WA569p/G79cy2crR3ooGUYQJcPnH0bnPdlbgMqXzp73NpQR29gwKNhdheo8JA6w13l8decX1nCJMobRpDl00HnM8LdYco1hqyvg0JDvZAbwEc7AW6ls6bOzotaTzNgtQvsTTUv9aMW0q+X1GomE028r0+1tphOfipfYbYKjm3H0kMXu3CagtlPvkSDS80jTfynfqg8nkW76GY5tu9I6ucBdurSV6e0Stx8MP3CU8SkY2x6lCgoVpVp/waI3NhFYRdANug+rGU5gmXMoadlkyem9GKZHxz8f/0WJhk98ZwGh/ytZj8QWohQELECDGIt0U5ODz/JF9x4UZdLlHSmNGSxwMgiohMP2fFyR1KHTrm7LC5Tm7fKlkGu/RwkEcTXrASxetg0sxSJo6T1d0ZLAXwwgq0pVjG9LWd0mkwWeN8+nO9opr7zTgLvVRzWbRzsxI4guQhcKEVLSZb9GrSPlTUJTuDF8BBtQuT5N80uD+i/n2kPmYh86Q3dVY2TKebjau2ck5Bv3GU5T3yPQmycmaY6Wm/OsdYSP9WV71jd43fksqm7gS4WQlU0+kjbhGEmqxQ9Cy4m3d8vx/gzYOl0X6/aAeOcAWlcvVNtI/Y6zYjDEOpLNgDUTkxDL+IdolYcBEMU+P/+L4wytru/Z7sSEB6TlhlVzcLXswToAK9/dMNYDNT6aHoJzM7voTTa9DP8Gdl3k9xcaDYBHKRjA2xCwu0e8W28EXyVKf+QI6UqO95DvgrcSnflk4PGmyVswr+qwFUtwQ5hNs5fKLc4/zaBPUrpakNpzaMvrC48d1piUmGb6T+DRTvokubEsQ7yOMMajHYTkiKe3Md5XafpeZa+lOoFku6rvNLfGnI+vcNAtAciYUTD/g8rk6Ay52mDmbMdu4U6tJyx9YAJ0XUiSYVg68dQP7IBx3gGKeeK87a0zxwaJ+HqHZw/S58NcaHe07SjI7V3euoScs5xKPyxrsAC/9W3Zgw6gBmwC7KiyLO3O41hEYwyOVxQmiDo7YTWByMv7J7rR7lgDBUwXBGiZBQYzpD0OiHVJVYlfjkjIIIqjJx0VMmBZabVrgpndzGuePBwO/OR7t11R4+/fZF4yM8I7L8M7/4+fBGrf5tKcae21zzNhL68+m2jf8+WiVToHRjRrmopSuLsbgSCH7puoJKFbjkc3+fpQfIQxOea9DqWlGarPTFxUJ+VROEC79+O2FWwSd59IGGgSFmvJxW9Ri/kLFJ/Yhab/5qa4+okhGooJ9r4uKQTv+x7qfdNKHxPF+HBdFn5ywdvdoFG/32Prx6pJ+AvjaYjYkPv5s9h8e7rTuddot3QOJmn083wrkNoPr1mwt7pmIBcaM6xBkC3bso2q6ieGA3FD9WDK1uh1gu5RkQRMkMT2eeMeALKVez2Cp02ExkxiqSqjTIOextdswjUKmYuznK2XDVZJVkvRcsiO/U7Yo2W07ABA72DjHR3O7kRc6Z7mXugzYEX3gk1m7DUHq+XS+mjkrxGkJCEvuHVwSwT5C6vp+9JlPZggJQPYmjmi9S6eBm+x9f9ULSQ6xWwgrsUrOrw5B0/w9qN0qYMKJY/RytDpelU9lYp8vpBQ5ll6bNKrW2IIDmVQO8h13H6iCDBEZ8wUMGAL0/Y/ChjMwJ7e+uDU9c9pgejxqElc9oDXAbUzZzrxRMBnR45PzmttRank9WEwREU1FIXDD7cDDEb7KIuKbFP/GFKqm0ywtt0mT5lMqkuj9Yau/64bBVSkoMYrIRvy4qNn9oGJ5EjMY3owuEhUB0H0ta4guBQhsveZ815mdA+64P6DEMqBmC+gdA/nbGjVbzj32s+41ubyMN7YpjXhHOXUEVXvLw1zeoX5+CC/C2i7wivAZjZ6YsLXEZuW0Wu1kTJVCaYj3PGohn2CT+LZ1VA/RwvPHZtJXNpePoFiEvhy3l1Ew8aIrKzLxCZex1VWkmLCyBxuqoSzg1kD+YHh6dXVlttRFlP38qdVSHM2ZsgIdjD2WPrGXWUPOYxKA/YX1uOuIDOuL/z29oY4g12um2Lu9tcRqHbjJ7eH2lY3SSPnyEzSg/78qCmGovqv2etCHfrxCLS2upG+SGHAW84ViXgGk2V1QM2nIa06gYG6SDRC5LLLaTUPlA4AzfqCmq3Nw3r5Yqz3/BFlDw5Tee6Hc1C/T42wqMkKHuoC8g7v92CSAEdddUbNrHCiUjA3iCiihfMLYGrBJw+k5gTY21zzN5TskPL54kyZOK2B+bVFCl32iiuLpi8h4D3TdQWgFvPSOb/P0oVN5YGrZZDqWlGarHLFxkQyOagGfS9+M9SFnWM1HhvzAKS0wtxW9RZ3Dpp1L8+zUz2WyhIZJCNbET7XB8Ugnf1H3U+6cuUoyXs8pavlmkJDFGNGoiL9kbwopJ+A7dw/H9+18lFHOMSwlYpxQK8qA4mafw1cK5DaE3S+fg+6Zh/CXtX+lEt7g+NI0wxmt5fJKasGVreMi47W7ijfWEMT2eeGbqq39zz2AfcbULYZIDMmkbEDnsZQ5+pID70uzm4Q8HO8LHDfRcsOZb5lJ279M+3JnbTKNkrtAou9KGH2dDCLGLvfrfTNK06dUO4Ry4RISqZ6UZQHy1EjJW/F15xS3zsnM3c60aHBrh0gJ7yMFnak+k7OaBggAUm848b3pDWcbUWOq+h3o/l2LyK5NSR9bdErj74seADU4FyF5Yu1cmAMc8m+qw1FnPxvjzx1H68RyGJ20W5XdYbnqc0qTyvNAjI5YzE0nMfk50i0WhOAqtLa4GgNjOokQa8LTsHVfnFzlbllp3bhTV0QFOhYuddMyfu2r/Q2FmVYS2qZD0e13vxIc5mtZ/6RTMGwgCT1fOU/Ax6qV9LsYG7Bizer6xqe+gld7n3gFgDRANiPYeoWWJ9KOyd+u/q15KqR8JdoQu6YUsBM1QtjlK8LA88vlz85C5czg7D3FOP+Ip5k5XmFl7VaKaFSE1BrIfIvlyHKZzAN4N/OMjRVQx+hcG5CPIwkfkRsVk4Ne9npB2L98VoJx6Iilio7F/FYpFcLxRLGGU7vvO7fhMQXhcmrw3QvzUlB46xHjRiyHjNK6MHNo2lj0D73KPkxxGtGpkHNVIazXfneDkNwRgeLb6reaH+DYI+DpxpspHqwHUFR+lX9KnX3qcqS8LXhkRzyjt+Iu9I9X5WTDxt/idrw31omw7NZgL6wSw2IhVsO9VpW/7pldAoOxy4jTiQycsAMRsq6Bnnbd2qfZO253YUhV8kGYdzpj9X8wPDwRHqRDjSoL+Db0gxokQgynvl9MDJsm/HU3bjHFVUCGSD7n13mFRfWZZBgV0vsMX8KDjIBkzmiBznnsidsvMtofm/PM34P6u50q7kEOrr54Z3tEFoW8mV0Ut7UYDe72+lFSCFIvOGe/Owzv7elYdSPz7C+LLBZ8EgeXrXJEeBY3yiuTUJ0ccKlLQUaOTGKvGj0puvM5mcG6USL6s73MSHj00meDOzAaIUbbyZdneYIZz3jf86mgUS1Gd8fzTCy+DBzcYdGGbeBhbuaURDiy2obU29Rht7xG9Bb78/R4iOV8k0O6So6/xdTmft+AsH4jDZn6/97GglcQBdpn+62uw7Ue4oMjBnBZsKPNvZ35HLTvE72cHNZJC2Y7n3dQZNjesGgJWmwR2a/VO4wd0KlmydyO5cEYTFl86vEIQFK19L4Jyl8gmx17eMzx4m8rOXVDKId4QafGYgy2GgVuTmeVxmfbo87nYPb+ftQpOO8C/SbTv3+730zwv3Jicnmo7IC2Ec52lvyoFHJKt8ETjvg0gp6WimwuQLtu3EqFK2y4OAoHXTcscAvaDoFo16Zu5QR80ARIu5xp3R/ldG66pnX9lVpTbdHqV2wghHsoCvza6zTvwY+FepWY4EeLYN6syvubpFS190MqCratMc5Y1dYqEHjbS7lYyFR846UqtOG00UNwMo7H3KnfoEX/PTBN2xTMH1gFfAVe7x6Uky6iIvHNFyOSzqSni91uQCtZ/20bQsnkN7unY81ytWYqfBDzc/Q38Rsz6VkqwfNH/YdHVX7EFM+jQoL/c9gYd3ehCuamwn7PuJVM/5gZY/VCYd7fzYTiu+cWrCyQnYW/J4kuoDfiXxIYfkREA3ZjQ1dT+mPKNml9dE4TDS+Bi1ikC20utLvAcTPpAZJeNlTbFBkxLBqMyIxD9Fb0KRwGYX9U3Pyd/GQTyHoLSAcQHBRmEmtADzilUdzCwHhYCQjxHsk9V8axTEgeIU4UjfAb+FP18Z7ltQODs8V6a6AfjTp4SoFmXMP3XPPFUIO4+5tTJXOM7zZgcOjJoDm97Pf+g4NG3UoX/N3sOIJI7gInWW0155e4p2iXa603I3FeJKKGkLg2w1UeEkhde7gq2gCNMzC2KhcWdZd5p6n0SqhoY3JQrR7AbBpA6JLHDM4PFDF7WtGZ9k69HmA890tXrcmGzo3T5KwuA01aEY9UiHkNBQh6pJ7zLZ9T+PVzCNszUtOdAh1dQgz+SSKa/p66Bopb2owG9/c/WYeQG7yczVGdX+AOFDAA2JXY1YBX2Baa+EOq5mECezHHaAVhhRiXiUYt0coeGXj/BklZTCF9TPChRA2kNFgi4d3xMOmWrwiQ9L4pSNOcNjvJ9LD0zcCvCg8FiYT4gP0e7TlDouzHs5t5hWT94sOlKZDRwExKxtyIDPVzflWPK+UPHfqFLCKMT7Fl+LsUXwL543b3yuAC9a/mmf7rao9AIbVTNaN9IRl4qtxH6dK0v/r7BW3PEkl6lWIrdWjlLKphoSgrfipI6M14wd2qlmfY1urDvwLJkFUOGGlq/iKE2s+NONJy2xKHig5VOZfXKhlEO79/sDMQZbDQI8EyUK4zPt1ONTk3E+80vrRx6lUb2M37GiO8mVh/zp4s1P6EWlxQaw+eOr0PHvBP83qFDwu6GYNTB2tgu8vPsgpWqNYugHJXvojd7wtd01PHoghcHPGKVPDoHpNxzdC5X0EkeUPY8LNk+SxY2wJHSLVH5sUQ9Iv7nHtj5aZorRHRs1qecgMiupZ5FWnqBJQdhm3O3+mw2hId77kFGQX/UhPq9woad3icHytVYcxzqbgXqdRDawlDeERVVp7ojNW2MApKkcK4Uei+wJJ0LOujSo5aR/Blbx/4O689DPCbT8pX2owgFwhrm4DKe7jxdnhOWh24I/8HxchtmgH1DKyBaBsodfdZmdf3IwcFHZkaRLxPaBTHEni9QmoY1Z1fs7rU2mqHpziPVh1IGGWvuNr0+bPO6dY0663LJZMqX5eF0cl157aSrV0/z2u5K72o3+UA7vLPiLFKd7EFAD7EUbOXlxJs5QIibMR0q7r8BlcXBCxkJXDJVII2ehCbYIAUI0t1HJl/POxNL6v79HqSp+iYguApwy1nDy2P1MeTO/NZM+FZqKPGWmOOCsR7kCvoydvVjheg/izFBrEvieqIcDdtg4Pv362P38uitORRFNv/J5oqCGghlTAkxCB8+7y9ILaJskL1/i2GCHtX+eobM/dasW4MlGIKjrDL8WI4EdQUclyxW7GQKUHbz7bCzcd9C/CA8qGRnzJejDOxK/IGB5/36XEPjc3svkwY1YrY6nr02e3ziuGW0p5aroLbYTUKYI3Pfy69AtWb4Wh+H8kqjR+au4jZO0J0n+fkyY6t1VPi7zLYH7PGrohVDn+cZkfatmGcvyiHe1VdGaoXQZYUL8Jk9ZYo/XIa/DKKk/8uJpfmD7172fByejtZRBPSiJ5+HGMdqhD9gHu/sIoufbJrEYonZaiAp3Iq9bR+s58oybShOc9GQk9ogFzHsqAdKbzDAL3qOrEr9kmLW/UPXwy8wTmPUOvKcOyxGlYgE1oBc/dmpTvO64NukuIP1KMnNp1QIttUkgUIpsL92VTzbTnAKP6aljdMZ7dUUJTklAwHmquH5kezb8QJ+fZPBMzU2F8O7vFKm4bdH/a0+HqsGT1+znWhKylXQ12euRLOnTd0Y96R2gYCBpmFLrmMIRhvz1VY/+/6ekv2LNTOUcNkUMce2PbJH6szaIWVGMxKY+DTUC/p/8K0yVv8pvlIBw1zv05cxT726c3+uJQZIp3BoYP4uDySdRXC8Z8njNrUAm9EcsI4fQ/FnPnccscbATLteunTGj/KVSAUg3+7xJWoF3WHwZ0fvg2JIYcu0vk32qV7mo3nuXTEaq1KHHs7eNNSFf3j00nG6xEcQh2ruTun/ZN+It3B/utbimfM7X/prfNZtesKYs1AaOMfdb4XHA4WpzuwGnuX+aCG+GpMT1oeHO6sYWQb5MQi6DDGLdUvjlG9Ll2iNTkNVeJdWY5HKI7K/Tz2CaXTtyv+sAAGfKD21j34gWmMeUiMNWuvvTBkw77lG8FfSJKpWddpVzRDuRoLSIpIbGeTynHJ/4Uwf1NJmIRfWsjXyMkIWN8q35duwsOK8hiyj3zzJQL36Uqgj012mWt96Oqu2WKkXV8o7+CDv2mM7Vzay/Z91bV7NK6+Mhak1/epvBwMgVmxazn61oDmTfXAqdYVO1oPSkgsXac+Zv5kmhqJz1XK7f+lq2YSogAe3L8UnjaTbutVVleSj+6OgzCDwlh9JZbacGwDT3oQ/BmYfZGq+mQ7Qr/I+IboU93c0HFa6nf245hPzcPXiixT1bgCkCbpWOHJnKT6g+jUjg/P2TRe02chn94wumzY+1myuTpENJTv05gv/+1V+2+tOhDkJW4zi7TkAuPOoKDW2N8/+HH990aMki/ckNgU8/1B1n5LH6+hu4EDVVbVw+tKh2Wt+EhB9n70lc1/up/VcgDfe19K6AXcSR3D4+S0TIOZsZuLcvPre/y2Eg1zynFrR15pJKk0Yb+uNpwtRDLb6wK/EckeruYMLfEgU5nv3e5iUA/jjrNaGbwlHOP35M5eH8mL0uN3kpF2C4hrbIhwPmgJDpzru9oB1dtOu9q1kML4xoQpQGuuxw+gmq+3aWO5l1cGocnepjjgkkVba6MXkSVQTnOPFz1LJM+iuTjp9UmLHETkf/L8aq8p3/b1++NNRgdY1mLrs+IlBsIAnq/qeqB3tDYPh8cbF1b3gvNm5Vq2qo7R3gfYQbNYD7jOiiEskFyG3FlKKDZjsERU/iUJAMkizWFZPbcvzYyBmzMxDkr8vtKSF2QDTHv5GKubsjgdrrXZFArCDWnw/OLOja6RdPEaMNPttHwRXWNJ47leeaS7gQdJMbs/Juf+G/LOE2MZUOTgiqq0caFg0hQkkbwdDVsz74brYrRQFxCLt7NBsLNZjPbh3mUv7nu2F2xdFdSVSdSREzQRSxTmsohNmyEOPpTmWzEqYaf+GTs8YZFH7ySC+tfaEYFas0X7GwipM4jjG+sTi24qVia69xWpemK9szysNYNVfZlnqn0lFO69uOEWul68bkEOa8Om29Q2tTj0+bwzMiOjmwx9CHzxedQy/xfaz54fSyiGfGBdJqoKhY2Tua8Qu3xZXIte2YUGfsWktrBAFOVwxE1YYGmS7G/iYrO6J5LcCMVprYDLbJGUnX3XZPSvDOTzIE8nVf+Vfwtgdy2ortPEXWSgO7DkPHVlFW9d01tuVY3XsmnFYXKVilFiprmCxAJfpWImbxFMQgJQlRsQ177/XdfElgLUizWDX+25n2xkBtTIBfzcts4Cs3CPuMd37baqntOuJQdyJoFsfP0cd5qS/hoko7rb1PHEumghwHHTgglW9c4Bi5eH2MVgMYmYcf5EsAaYjf0yE3nG5tvUcGOeFNjSN3fXwLidn9MN+YoZe6isKeT7Ygy1Q5dvWaFsED4lVysszyPocBpXUrFToFGsd31de7wHTJ7wyt8q8gFR+PclA3avK8h2dLN7gL1jCtKn862PikxqktXXoF8SBduACtuAsrJ//wLB9pbSIxXfW748mR49VwNNqx0vRtlZLmRG3GYzWuYntfk01B2vgkJRE0hubL2LOlpcuR9fPmcNZVBuY4XnIttAiyEXQ2zARdlQgo4lJNt4zxfH1L5nmQfj4kzS7ZOp1v9s6QNOb53cSmuP3l6QmLZMTscYtosUcdsntjXJbXlDLBsK6kFkxc2qzA0fGLmwqONNSVU5L5jsuBEoNU7Gh8CWBZLzhBx5mvNGGcnotCVSl5X0kVAtq/B7akcrwjWLuW53U8oPyD0WhMt0pIK/AZnxjCRMzGQxfn7rINi/azRmgNYev3yCOOFIUM8ItUQvF//qaMS1dAXKayIQHg87sclduMe5456NuFEAMIQCmhf6jUN5UXKZQXNy8WHSkxUhk2Yf0dP0Y6N6gko4SAra9CJavxfmOLfWBi1aq4mZoeAeE1VwqNqIV9UPBQ6V/ZiEXYIRR74rV5tA9w3x1U4PnK6lqQ87g694ZgvJnNWdHppnlrZKS3bcFyeXWaNCCX2nM/jX0y3Kg6BL1EaHOsjYPL3aCt8XQh9QEaCRnpTgA5aTcpbVWDJtmZMw9L2UzBVz79mxbm3mW4Y+oEFQh5fv3r2n8/owiDObdSDEuC9sKjLCXpYY2h18Pg9j37JL2McezwtWxd0dhbSp+VTza7CpwtqDQfPu9nrtsUL8759agdkKNUA/z/uePL2poE/ZK6WlE4PnW/tFP3T0maSmzQlISOkKJqHKPpwqstMk3x37ACw12uAV8s2m5TrzzZ/TXmGWPa012hU6G4fjn+LeGgiExrajfFVBrjnaZRDq5wFzv47+CI+8XkVzYZ5EOBMaEA0dL5FrpUKMoQYonzsKgE9ifUKFJrG40rK9/Y0s6CnSPnKRPAT9N8jGceCKt3rGa6/4hEVCgIWIEGMRbopyb7FIAsLiZ30WtNmi7KEbhJmeHGkJGQ4eLQuDBhw4ArcXyq/AxHtksxZSNOCq5ALIEyzgdC+dSMWnyoye/SiatcVl3xuEL8giwZHVVwzbprMHAI4/9/e7SV8iUXTHOl6RT8lfrTMy7XfLUPR+l+sG+8wK7NjF3lqTB40bCcwS2G6Mz70Yi1iwHkpPyChSJAPdr/Lxv1owEd3nYloZWs+NQjyuQ847IwKq1qykIWEIUPybUvymngdwHrrWfS7i1laP/NOPOHtDUzKs8bn0/7WGTFBhuKVpNeoniq47s+h+kmtN5T0saxZreIc0V3oP6w1XDSKJJqZdFPrH4ncm1yEBykuRZZs6OXPOC7MyGpU6nqjzwEolIwn0yNB/I5XmaUuQkHzwGLjeLCwl9m4mCe6naxLvQCuVGKZhk6Tnlm1BOpFU7IKpTuIqiQV0ZVzL7iojJXi2PVeyT5Bvpq2hMoEKd94PGQPbMwpXMfkMx12UYWlMTDqy0VPLNmyKYojG8lJvucsYT/Kvi3OSey9hmsaLlfxa5TdSRYLdjMDKxHJiY6nrRpWCz7ULpxshu9/bnuO3fkclFC7FLGp0fXl3T5eiShVjK25pTH4uuqsS/70cKz9l+zpwai3rp1VkXU29b7lWPcxD1/Aoyl9hJfRwaKKl9gihcIjPG+09J0QYjEGFk4nIH7ShlXjVLdKr7gbhPQEcF/SgsUywaWX/Ho397myQ8gx25gz4JZvJRXeaRM+uNPXmCwFGq4OB1obl1qhqa/enqJCSNNyBnN1u/TBHaf5l6qXTMXZ6y9T6rLVe+9iNfIZW/o7GlhrXcuTcAlBWe0GWeDPsZ7R+1NLnkJ/93iMWUXlsJQ/KpomRIYT0jf+7HQR1RXEWQGCuwwu2i7IJd1IUNxG4vfXb+9SAc8qDhNUr+ujCaRBbTeSrDwGkLGLjtZfZdIRu/YvTzZX6fq2UgDSvK6/jzXGCw54MAqFVkWuPikM3r7n1upOy5eLi5E/eQIXaVTcLzCjShLxayTay41a9JewqoSCjcjzu6J+wWlu7akzjXVQIJUsHM07xYywxnAarm2V4/q2uKxNMURWJuVqoWIxjJWUrWkjKGFRMhmAC8EWkGjhJ4+D+JOnwCjdH6VB25NVGulmdqejxZTETlaHL+mV0RsQWlJ4CxTKJyAP1SN/VaTYiQGOwYTxun7nxbS6duM5/plBThuEnGzBXz2BudHbHFIV7lFEvk+VHmgnK/09MjBe71aZlDkOY4BZMERylqX0rrzNZO7T0SZJ7jkY7+7LA1f08i4a8lYO6vyxnf/KX9jPQXcHm9E6MqPh/b1iPydWkPMSCQFio+URyWtKl4oNQG+PwrEnNM3U6wY7dy+b4jKTa7ez6DtsvGiLYCCKpSMg4NQS6RGc547yFnQMi/O7fvj9CbWzuiW2+41A8jKTIEIp5dvOX6NU0PDIVSWDS2ynN7usYQSG0ObUaULQNAdqufBrXosWhosMUy10kb5ExClgU30vmTbrPA5Xuj3Rh8mTXrmgWGpZRSF6EN84hmhjhhiRKHBhZ/QZVA5igolf+vu8480vbx5M82g3s2W9RSs+XpzVp93kRnLfZmkRfF4HdVWC3cQhb+L4t2dwqoX6yXcB8b9etf2QMassGRUFfcD3tbuEPFQKkAcwCWPP+rxbj0ttBOVwcCecy+d88xBbbkqKAe4C1ZPnxPyOOa3B4OqLWqGXeVVX1y3d7MfG4N5NUOjYiYVPUZH4/Vk5QsMCmy5rgsEAHj+HcHDFi1vKDeiPdiZ/r75wD78LtjtFM1rJCH1XfpnfNGua8wgo0x/2wItlqXQEAMKj5KQPX8SmcZY4K3GutzVAibNPY94r71Zce1bUea1TxE/NTyiXs5qxrl1Z9rCmZKlmOxUdOhhkmPPK6sr5m78rUgIHGvvB7j6n5SOTnr9LZwSCYCsGXIC9Yy39zrYzib+gP59EA5isCk+t3qRJjNMGOh2jnqIn2rMWi97IhkHGK6jKn+4lHluoaTZJWXfF2jURF+yE2FCTqI01t98+/a+TS+V+gptgKZ3URodR2WvfAiOxSifBCgvla3+RwzQAAqChEKtdSihiQJNdKdY5qwZWtWUXTrHcUckIQxPZ52jrHEWlXs9eXfuRMRGWVSVTwKJ/yZ4DMI1CMZQwNkSZ8DnisF37/S+/XhlOCDY8RtrO2mSoV3tAoMwNUFyyw7yxi37oJKb8rCpdkBHg85MZ/81UarR4cc4S4ucNX12s5uTclK+w4yUZ/ir9w5KeYuP+vuH6maFd1Ync5U5rz2Gm4m633Ey2Y+taLMbNAepdI84++V19opUxQo20wGeJkpa8OvwYH4AEGgo/Q59+g10Ojz7VYR6rDc9EpKyX3SapZYNjG2JRXWpdw+jH3vxwNCaqn9bnomoNVWYIZcwjC3SMEIln5kaE870qLvnTPdbEEDJ132oKj0VB66tvTujQYOZuoWdxNIuqA5Vhy/vueYAr9JdJTWV5JzOFDTHSbwXtj0uMcHCJwyfbEqEyRofphGavrMVVo6ZO6l1V5/X0WI/ZFuWTRCkE7E/q8DOakkxi3YGp9YeWNkD3pBkm5Od4k3XSPITP0d+5Q+Qp7eLBi9pZvmknQ3+AVysxrNMV+vCdC0tS7OxyXUkBa757FtR78ONF+L2cyGhW7zfBfvP3QBEz7KgdtBMK/BNoQmTadYtapTwCo/UNuV12iBXixVONTYCCnCGJvtv1+rwcO5i3D9xbgsiEyfPw0XqoukkX56bHljzoaQdA4fekJXo58QOyrp++YhPDcV8ym4rDA4/3Bl0TLp+eeOA4Tpf22ocGnQ8+NitvJ0dfjkcH3iUa5GiLuk4baESRANZDsu+so74u6ntvTl6zEg+Xltop4u1LX5eWm8f4p8f9Qa2mZvuhxEiyRR9kpS0sAHW59Xk85Y9NfgJr6oJHP0dv3DRXDm0dQYnOp79vSLY6oiWCURMuaFAXtAvSb4p3JTm3gpFILUo7Af/4urAO/7vSxP4Zgl56n7oIJ30JKFE6WOUwL8l9P9wwo6Ir9vJ2JrEOk46F8voBa4sAZj4w4BfqlXCxMQa+vt6fxmA8fopsr2jhwgriZSbARWDcBdI1TFMS2T9u3NsDYPI9/n1j/lpR9w198SFVuzotffgYKo7uX4849aOM4p11JYcgeNwg0zTwGpgxAc4QxM4/Ule1pvGOaWVSpN6T8dGkJdIIwqU6SB+tgniHeUxDALucIAF82Rc+xp++CbNd3qQwlYpju88kcZ84G1+R8HFuV2Cw1Wm0glifsFKp5l/h2lWT7XH2LtpyFozkLgX0LZC+HLp/htfbVQuOSRB6kNwG3NMZDB2RVfcwh6581I1oiJXyfzptrQWnby/nKLsvAZBqpXaPltUEjn6DCH4p5CQcgDhTVMn9p/SYcdpC/1AkJUslSNvg2ku0+z1sOwdRicpWRf+4jX94pQgPdewW7u5skLQLKb1Mju4HpdVDgePRS/ie+8W2DyqO5MeaMnXQxwgtu+ewU7QnhX4EHs/MdqbcYnOyaw3x7diZBmSODW/fJkWV1FYNvSLTQelwWyft25veDwFk81hEx5ZXOdnvKKgw+G4jnXL688dIvdHabLnFwxs5hiOpGnYuZvbLIhGGVCS6kjW/+TQP+FOOOB+XhYsgytyNLp1/bME6Cl7GqJgjlU+0vmnZPd62fvv/DU1asflgkCArOPFsVQt0YoEFOrnEH+eNVPBVLP0faWIUIV0fea68HlKvQXuz2SsQr2v3b2Iv6QMyCTtskbdbLH2Bn1AR9KW73PCQJFavEw+KSRtmuJMqRTNFVJCkVtKkSLuR8rrMmUOaVJY2e5Kz79IR/jEmKUI3wnsH4zuOvhXKikD9Pg+gui2u71Q8DrDvAMsiGCETu0EVt45V3CnhuSiaM0NnmZzh6WSnPmuSWp5LctNAdN+i59Yow1/pxxpsDI+sGCranjEVwev9ogUZgZmjopb2owG+Iu/WAeQGq1eX0h2MTEIQDBUuMTUzkEmYg43/5KYd2dQ4Vp0/yE/vPjm+1E9xKV15PY0lx1zhCEExaxHd4BZfZ1dqhrIm4Ca1/e2uqRxuYA5YEGnGdTQGn2iG9GQjU6X8wWnKHRYHnwLfyPvLHFFBpSmQ0cBMSglDBtEQ9Qj+lVGBCDwUmvlzPJePZcU6tbNNfMF2j9z23O0NfyImzxl4Xuos2mDrl6Mu40Ocfbr3hey+rlnBzWah4k2UP4QK35gNXJQhC19FT1PXw5B36FZrqJ0YO/AsmqxhcMNLV/EV27votONJy1GkT3tLqRdbFjCWF4HyJ7AzEGWw0B9f6tCuMz7dNmFXbDt6xaoLH1gmEGO4r05cLbhcj0BlLVs3+sGvIHxGyrANRjFLjuq2b41L01zhoC7OTzlqd+MQ3Q7Nh7yjASzxSsat/zWjmubOZ13Mrz0xX15ExDAonTInh4yJqQC6mDMPA2eY8dvH3t6/DWTDf9V/+PHq774a+BkEXurKWFIwzfqRUAk/bZN0rrmf6uUMT4ngtGOE98iA/FrRjVRpQaAwZaDQJO2hmqzqpSEOkI+PrU94lSTMi9LLKVxAqzpNmV0unUDgbtkU2fA9wAaEkub78UzBlEqqOAJshYGH6ba/1PewEuL/tSdPo/fkkY8UeQ9AkENFLMgCGmSipk1YLfSjBHIMU6gNFdT5Lee8gUQvB13nJbE5dWsWNLYAyg/k6EG5X++6KIek4No8xyxHB7VNlR2UmWwqNOo7UH+5NRr1OEwyLYiPOj5R/yFbguT8ObHLmA6b/SQ1mdpEy3pkompC4O1KNXcaenAZk3jDRmckxNJBDnuXTy+r4uhnQYJTx6B6Cri591PWEPVyj64SrDHXtubwgV99LXqqemeqi2L9krqmpD9EB8HgCAzNb6EU0AJWiB9F0CBsJ4vjzn9akqJkiOKLQFBDOcLIHhoRsTVSze5dJ313BP7Ko9Qihz6lgatoELf3Db3Xhtht6hgRz5ebgK2SDHh2fCrE2+c36+3geDerKrq7KtCbbIhdJDoJXe384mVpm4ZhqWJEWyuX5+Jk3Nddhbeh9pJy31FuJ/HQexGrc927TuI/K3ZAYkte6xwYrgmHVu3OuIV65iilnfJ/F+F2j5jPzJwrf//D91GavJhmOVb0J8KMa/s7DixQjHkztmDxNhNq1CmCUkcGnpv9foOk+6SaTfjssRx30EOg+l7znQbvpkBtZ+pNHIE3u4gpEtAeyWQPUPzm+PlkSqAHVaMnletnr7PgL8aMhb3r//fksAGZWEQl8WNeZUE8ZkWoJCswg+LalbfeUbrRaaiD4w9wfKeBiYLcpBjLJmIQDoeoTdPaGfAHtgEsKZcI+cDEOm1+NR9b3Lg2IInGetvMl5X+wlMRE/rFyk30PYMK2/ZqTjG/ypkgaemeSQSzoVjhikOiCQY9xo66sibTV7+nOxxIQ5cIdoI7SsfDGcWYzDNHdBlo9rNLdULhFnAphjJPjyVJCOoxud0/GnccjcE9zNkdACyxhcqmI/UCtjoiriweW8njysppr6zBofVY2L0X64wRUMC6xn3C6lv/x9CyjEStW0ff96QIbWpwViMwGKrh7rzd/MTmhFUnxfYbY56lnO+Fn4DWkskhAhDFVhT8NwBH64y0ayZ/77dUtsCSHwT6fxLfRWjHTr99gT8l9szcZ//ktZulKx3IUE7wJZIbhLvOeMPAYiZPKNTVaG9E8ClQXhuYHDE/A8PVxfYijYEfKb5/IyvCF9UIPPPy3miAHfBFaFiULkak6Z1XM2EvpzjZPwVXkCyDARrI4IqqKzPjTBBCF0h6vLS2O4LeOnLLK9MzB5FNjaJGig0cNrfQRmqf3Yg2b5rcI3cevOjM4d1x0TKAhZMXdV6cRep0lAckLK7OqkiMYG24Tf8yGXNNhAgihvF5hWUkxMJyclDorPjJph13PeOD7P6oLBQJSJaPxNKeyYF69MzxYiPOX0YTrru6yGgrHBwWsETjeL5nDly0b3hn8opPqFtYgCCKcS54dv5MVfVk3ZVZK6bjc44BzucIk27baMKqaMyYSXmXmAAfc8JCphxKOOd1glXrGMXjT07ceCfJJgkuk66VIF571coGI6MB9WGdbDoXvg5Zv3+MujVHckJ+4KxS4mqP+JePPYT4jw+yDYsAJneimhWUDwWXu3IAiJD38v4mkbgAgQiR2i/oF9FNkXcbZx3WbACwiaRooMgD08VaOuju86Xa8c/MFhzCym8SJXGUKSC6RG6z40vFTFkUyw6PI+utOhOgrC56UCpeGiZ8gpakaVM8zBzd9IhYM5IJdtOdCZNXHSVRHe7wlAPQHN5KkG2BGHSACnAaH2UE9p26//n89igcjL5S2+xIRhg8bmTj7O3xbct5L/cU4K6VERcf7VUZAWQ+rjVJzSIeNQiuiBfBphjhHPJQ9sW1mr3rnqQBXRmJ8UX4e3lIK5Tfp34fmpAWhiX+ac7NzZSY0056RfGiRggP10im78w3dS4+zeG88iuMT3BdZFdLIwjbCem75lYkjC/kKYG67dznvAqD+kAbcS/9YtAGYAfWl06KSkYwW7k0S5dnjkYxfZwkpWsugfD9su7HPwp65N4wvztrSGsvDjhpT8b63SibWYsqSSZ0Wt6QpwRyTKU+5SBeDFuFrLl0g6m6IKFwFcO1dYo+nKako/4C3S/SFyHbp0qoyrAHMDk80jUYGnflG7kvikHFN+GvHHFRUdu38d+9U2hdliHj6bk+e1ocASvR7/t/QpTvMhOVyFudt+h0swVp0OVcLQ6E/BfwsIqRiZerT1j4RvKc3OLSxNFw2Kf61MltZpI3jfAWl3qySQYlYWFxX9NBGzmoH7V8RTM8ONISzN8P1oXAnpSnZ8fLrVX4GJr+OUQNcuiqjucg5Q62nzr51Kx+zlQ6fZfhhBV50fHOfxrdIHuCruArUu1TFpJvDHjXid0CYY6nU3zRSd9BqS3FWAd49uSfU0MHTYLOqam5bFUt3rgl47mCXFXmEgnhHt3cC6EuGaEuB9CpmhoVsBXHy8xqkx8FJzNq3r6a5j5LpVElCat4HdxiDnFtrv2cZ5M/RTxBvbJopGf75OwKpDoh6wwynDlWBMsPdsmpJlHSDJ/0UMmm8iaPx5oloi3fGcNj8Gj6MhcyR3sv/Dr1Mji0EQpvRFqPMv5njPjeUfQ0dALeMKkzIrH174FeKj4rda9YetGMBD6eapTHLOe0NuGmv9MU50zajgbK3azm6WU8X7uGFjDcgEGyOxJA1ITI77ZVTMo6dFUKFdrV/yRIHzx5W1ZZvrroM2AaeXgRtvaBJCM+oT2Mnk4fUlFgruV6Yyj3k5XjllOH7/yPj/L1zrn/38EL4VrbwM85vKJPYMxbQ18k+azTdNJdAkmjRHByopZotUXH4WuXi5txkVMSBICdqCpzEpLITGWhcYGEHGwpJqvs5P65bpDXgqw/H/RhP42VK7pVK1mzpuWjYOEI/kmJiolI/T6iZzbi8L/0ewl9bOt2gpT59DAMV5iYFvlZi+eqEZJlt57ovhyuYcmAmZ4vuLUi99giFgw9bDdpbbaLzs4zth48sWQthreyZKRfxJ2qyGEkly5kEz/0QC8WlMeUs+20y9bXQzIM0RfwH49f30EDcX9UkQ9rWhoh6BAiaJD8dBTSmabZeu7t+x4BLZiEn3M28cuiU9lOoPXafSAkW3JRhQMcpLLHUo4P9ifof60lAaG1qbIbnXn21HQEyxhv1ZRO523ZQShGU54Rw0CH0aDoLrNVI81IF72b63mQAhASUSsDsx/Fu/K4s2Z6jk29kZl9YaaU42ialIfptsHqXXDLE0GF5hu4yOx3Bd2kMwAF3NP1XrdXzvj7Pswb9pj+CEewZi2hr5J81mipqrVYWcMquDlRSvrvQm+7cQTtwRa6v+bSBbNFIpjtSLgfgu/XeA4nIUoYr0m0Iq/TO9E4r1nB4ZRFrl24OLJLpafveDna0Y/t0rDYHNrZYQf+tLv/2KOZDzhyyVEZKd/fkQH+q61zQAIwKAtrW3z9QA8G+4ixolEl+7mwPeWkU8xPhkrVM526Imh3UuyJ2AEnpo+cQ0nyJewarwFpq/x3C5kKrtEn+tCI+aD5N2Bju3Jbnp0RPlYzbHmzMXh5Ztbet1D4nDJT9Sqw9O777EezjYIGl4c4CNIOoGnzIyGZBE3o2XFlABT2Jz0QFARra9XLCPb5kAfy6U9ILVuApZyuz4q3AfJQ2mcLk0U6qyILatuRBzb/M0PWi2kE40Jd6Fsc1WB7jEdMUHt29yuQZt4qfQHx8OyOyUK5LIfRqrWEGQeGGpT/YafENYZ4WiwF0C3qlxEiQKJzh6bh7RN4aITTpkT0ry+68OknDeQJkZxDE4WsU8YcSYRnxBeNUdq6Ft+wLuFzy5HNyr4Uvfo6Od0CIu0hkVsgRYp/mSlQg0wSELmFk6GVQdI/zoLVheLkVkylVosWeyjJRr+BcwHIVwFn+awgj7646VRM9DuU6MHxJL+3sTv4BR6nRYJUbt/eQ0QkL4fTWWpiBfriRJ/VnwE6XOGK81vm4DeaPfacY05iQCyWnB1P7XNzUEhqGZ0hbG6l5D+Ps0o5ffm6mWCh46pjY6G05lWyRCv7pbaAgbVsKMPUYJrUaeNXKi2h83G2bBrT83PxoUed8Rmv47tT7/vOF4Pg/JDxB3uPO+/61V5ehBoBdxsHawlKsQI8WHauq66cuCS47IVpw5sD8C+5XZXx6OV1YceJcAEtn2B+SW3p/27bM5sflTRhRfdwefCX+2jxmxfARoe4p5vX4AKh0FI4UHpNvtBIG/Qsd7STvghRTxRkANka6rYlhp+12bxIQHrRamH+Gn6HBk9FxT+2xNRlSC+6tS1crmouSbRtt2qqMBH4qLTTDeRSglgwlyIanMivnfuAdSHut4d41fabQJRchYd8xSQiCnDVEGXBrnh5B00x2LC66oXCGOFGQUSGN/L4/6K6fevv2gj9EJZ5nnvHKxAe/wHHzxDq1W4OE0mYjk4aJy6+WG4q47EMdjOAsVxyBXVlfLBNKYpVJwNkptn/MWyaiWt9ROEdcUVm7GLMBI3lI3MKnhvUnFb1GV2kN9pQs3NDU6muRSJISOEifY8QP+PY71d1PuGlm8eGpUNGsPHglcuheBT3CLglO6o7s3Hvd82XzhDuXlEK+Pd1p3cqehAgMV8bXIgDrkNodsgmwt7pmHuMaJiClI9SbZRtV1E5YEQieGqsKr3wnuy7UZEEyMg/dnnnelYBn9zz2BDxPKFyKd60AdQeJ/ycp7MI1D93lDPQgeDqF7PYT0mvaGCj0Er4Iyf25NtoGwBr7FmsP+53OgWm7zuNELxoVxngVKxNH8y9YyIgo97ci7bTTUhLPzffRCR3pMoQ42WCCY7I5o1MV+9n9t2szOcTwXqiZnr75GFWpjeMGA6i/aNpGJViMD7lspXQYPUKAGV7LnTJBsAmNJW7mYvX/MpT/pX3A+8JJ0BkkTW6ftHbj4FJ5MuxS8+a8KhOpT+QAF7ICb6mlWgJDju07Q46fqeH7YpOksvz3ANR6KjrSY++7mjf7UBVdxexgy/ibelgnXFBZuEhHzdP3dT6Jmgdt2tJXEpdMZx22qBf+JpTu3iiQQ46FIhlJdvf0k4GmA4yKyXVqnNHILrtJmqk/I62rTrE8jAb4Xu8rk/7SwTwhwdcBQ5BlQ1K1lwSP8yM00NZh7hOgy/v014ZfkEaG5egg8lZjpK2oBLzKfLFaY4QC2Tj9n12f2McuYqMzrq3Q/0EHnjvVz/goESy6mBG/FhY5kv2H/9F1ByqgWhTDvMyQIo+4DmFjjWDIZz5FOFNFnFOwVZHWVsIRdaCd4p9wJWfd2ZFQ/lSF3sCYcRYAYFQHIs/b8pSeDfHZ3wJZ4FyJbS4fe1ic9WuxIvNFDjSQFOkgCADHFtzZay46SR/G8PiTCrpEd72r0k9cK6yjzukuLicCYu0/PG5NX4LQPJte1zWLNbwKGkkz14o79KEzp0eajUnnqJ+k0szOPrqfaz8xZkJksIxGGN7h56wqxop7henTO3cCy72xi8rw9wHDsmKwI7f/d4jFk2TQ7RrHhMcifGStKllBAmDJRjcl5rzcNLJEFSnLFtIYOi99CxVuJCe8fEEgNBWR5VkVkYW0iFfTpcdPRdwdtF3o7tLO8kFYv+UkGfJEFifk9DGLDjn+0ApwNS0ywl257gfLfLXWUkjoU1dpK3Ou0qmnFb4cyGPGvd9zI8NUcOEIlTxlaBUBhSoNBz90jA9ABe8ykUOvylSAGgA4t+9HDPeljDtsHQsSdiiHqNstCjg5RdGvcE+vhXOv9Rkf29l4Yw5/pOwAXku7bPY7f+MB/E+T+xjMEyVP6rxXJD7TRCJAdTLd+ApVDoUfjQaR42TPWn2CP/5RIL7qIwRu2iL5xCx+SpdoUi/OJOrFWyzRsIwpQV6yuWNpXcxCYmMLzMC6P3yFyVGeVtffCN5bSMSQTcPhsJqNL4dIRtzi2n35NYxG2p94d4vbEcCDQz5YC33HQdUpeP24Ly3EzdKZO8sIw3rbVKFEEw6/+YAfgDytloeSyv7FFgwOvW1nNiCxqT60Uh7aNVKNKEOzwxtpcHD78Ijch4pbbLD61UcF3Cyt8DFP7uwycn+fuRqq1aD7dUct0TPwSaUMDzkzyIzVks6b0MpzIOS0BO8TAUrfb3KNtKRzgJjof6bQM+pAVr38lIHYHihrJP5T8ca4pnSEQsR+++jCytQXLWAu5RoCxWRsJz/JnnDBwVYRYAPYavVprW/WyeriHKUFS/90v4mvk/UA297VBf+I0kwp7O/id9lVxO7YGpsk0Pzi/A3elyATvM4LLcaYy0wvHpr8OKAoByHwgjJGqRe7hXOZ+lqzFeahTNQgzhN85tNITHGcv1hmSYsp62E2SCcQWA6Y2uFXnZZObcYBpLpVKCeUdmoxou5Fd//97cgZkbAa+BDG4DT+aCtD167CLqs5ChaD992uf3wbDl0bahWJWVEeK19uPO2SgikV5wawzLPsrZfBejilo79bmZ+m9DuBdDHyPRZvyiu8dMy3aEoa8V+uebwZgcfwiD45pqcMpHk3PcnHg4oYgcFpwJjXVbvGsnosb3OwfmBWk7xpti2K2RER52Aeax6C+fuF0FuT6KJNvsQZRUETSP9rHzjqel91CGnpYMEioG6QPjXX7WeyPRdpOdL/7+uR9J008yuvdUYUQCYdmmH9RWP4sJ8Ud1zOsoucwOUDyhSnRv7Uxw+/1dg1z+bjiWBThibvfHsowHKaOwvrtKSt++jPIA+Pbst7+4J/hassaFO0tR4JtJ8ZpySxSsleV80G7KH06cZZQfKN/DlRUJVUB2gwFskP2Rv4z2w+le3yPqa9ZZOzetvJIuVmyz5tOtZJgDV7xxT65r53Lli0MMbFIj8utMvqURMAGId15UVZPXydrMJC3z3CVCw6brr+MwyqA+PdjFKdU0NuKw8LE6SJ9L21oDJ2pd4aWGAgWasCt0hGXZk0C0GXwkTiPfe1tztZ4R7xSiz9wHO2J6QnTheDQWAn4vvgE/uepAiA7g1vcaqjozHkyOTu5DO1d+pkDh5upccbIaAkvtIxkKidYgC1kBSD/VcCv1jYnhUFCzRVS/5qoagQ1MpZe0bzGrXBS2wa8MFiNKpKppohazNhfziF3QUVjje6KfaRfb1ueDHtvxNf12em7IOcwyrIqzZNTZ8i8RxQ3OKmuwvUdqNQ7uBDpvGn9AaqRw7a5TREXEsLdVlEw14AK7hACUchUCcVhaTtkjyM9SLbV4r61f41nx+3VjLwJxat8VlpUWXKQgMdd7OOox1mZQWeAhO7Dn24jZ997c2YlMsqa17sowsTNi3BSjLFPUMUeZtVIwqQv17ydfTrhj9sOXX1pxFZdLoHIPdG29JpRuNL+EV6H3lViGjSaqLVbyM+LdQV2raCwnUxEu6RA+Hn1sD63ug9Eeq5oyddDD3q8ymoPzkBz4pxNguD1ISz8ep7V8S5CMtRLo+dawW3G1lATKiEyDTTM1VUhFWzVHTfu7bZLZDADUlGIpy9nfkcETK5qxXb6DCfOGcV/TSvDfR7aqKd0uSho17mngNTIFCa3m4Mm45tpcvbnRPmXDxiujqEH9/pI71EKPId1G7RRDEF2JR9Q9HNWGRZBB/UxGlI3UWl0Zx0w1P58T/S42LqFezm2reQu0EqLGKq01WojJM9uBwNtKsnrYpOKdw4m5w2egQKrTylYYNzIbzK5PFcMpKUMPl8tyvkx/CbZcvxSj44Two1PD9qoGsJYRciAp8cVumw9qZNHPbVBI5+IUc+X/VgwfvQpxn3IqUOQUSjoQQAM5G34V4fnoOrwEugesTUIeFNjxZIMhdQhswD2KGrsJnUeipNcARwYrkEiCPGPIzowgMHP1MGPG9StGnu0nHQyW30sgq4JkB1IJ7bSE/v92oFjvxE+JJhKTLafU5Nxj37zJ/9LPwO8JRMNr+whZBmhQFyEUSP5VrADTiUtgZkgKwEx0dQ29yJ6peT4Gku+sh28XePAg5kRpPpSm5ovDUwP0YpWtoZeDTwP+2CDDpE1416GNue435zE5juNxOkAqwG7s1elvOAr5BScPwBDuR8TSuPggCbkN7S0KTDF8hDD/0qa8PcVMljKJrARQboX/E+08w4hEGiJ0aUXZ4d7t9IWBXqsRKU2+g1NxGg8+0jiRH93ThUPPStJ4GjuXQzAHSX1WKCb+saz7vRuglE3zXTNewNQ81ctthhqHAy9wkELbfY6ndL5uuyoPw2TzGI5NADZyp6NRtAYLRZ4pHqOVF1DD/ETyKyc3+cmk6+wmoMhjqAC8YVOPVb3hcyqCsm9BLPRlvpig2Hna9bCuwsH5zqfcyPYkhx1IXTZEyTBtzMVmqrEboLs+nfe9FF6EG7LP1Kr7UKueQ865qZlSCyXoJjnCswteQRLzBC8Wd6eRXicBX/YC32ewhOlF9OpahEl7BAtRK83pKt3AIaPt5SgTtwKRd8AAAO3QZokbEJ/485KEjygKIn4xnf58AZsuJqA3LoEfeM3lM2ZkoKjBynAINBj6236x7gOHueoli4a1Dhje/scFIO/k/UgqInctBjUrCzK7M5DTKiNhFAxrGYuljZ0JDCP9uOGrpWmSgmZiaMskcXD//UC0GG0mYoRdHg2WmIaR95dI4o8CFWSsps3eb+u3Jq+uBYiHxh1qO3jWDXxP5RjilyrwzeRfkVeqRzMav3IscItzqeTKr2a2YCGgUIgfM6tmyeJuyhhiZoL0SawMENdgqQAgepKNYQoLh9KGymFcwlra/OMYZxofzUymgioauysHk8Gc2a9e9Nd0ZI/6YrMniuUWmidDDJoOVJe7OcwqGlL+woxThgFHzeFR5LibrxhO5pEmo0upBfF9OC6F73qqE8vbM+WORiwPp/HUFuHcOiPytRtuHiEKZG+918OBssgMao4qOiexdx83CuwGShUXVjLXbNtQ0GLhgIFMakAeoh7D5TioLCYEq5Y78S63mqLJyZyjb4L5UcrqMHCSvViQ+fIezGnCbFyuOmpzsFNQ+7slH2Gn+QMI3HIpfsB9Xel8t+cjBGamZh1lEblpgvdpgz9Flx2wkCOgd4Gwzthq45kgmbgTdg12m36/ou/wmS6vmVe5dI6yx3PycuHmeQzHH6pZLjlxD9lvxujmwWA9N61LLAeVkUxfHV8VZYyoGt2lblQt9ClIkyiO+IkUju1tu112OK9BJD0GhwRH6/zVojWW81oW6LhoZU4Sl9LgPR+oGupVgv0zkNb91rYNoLuYSB6wM0U68ARONHF3WcojnwCdGpoK8tuU8nSUKU+DDiAES3iY1m5+Y5qDBovsxQfWnYYRlP7XclLYn4yw1YloS6L9hLxYeOPCss5NJ954vRdRjfEkRC54iPWpAR9Yx2cRaElFwV86wohLiHT7buEc/7L+3m++gCQxpo5awzl3FWH/kKt8TGbocldxvsv2XAQIBq46ACSpf/4byPQC4fJnwmF1LQR2vK9CvobZKSYKMsJum4H8ZtiULnPEmHbe9cfLkB6z/X2PIHk/BIlRzaZqXBnGe+vgkWI+5ppNz5p72UrLBjFOxR2AVI2MJP0UyR6oI1pb3jPBKV+x2CknjZjhXcokHMijhiW80Pli3qz2CiDGQIB9HmbeM0BME/swYfdgDBzS2954DkgYdiH3ekJ/+TCWRNOvJPcp1WuZ2FJdtWKtqGrFy+gfaihVdQC+t8QGcVh4fIIMMiHg3OUwJlQikHvfcPPUyp7uqRAAAABbUGeQni/w8ildIpilD1o0aay0eenZ/3ECVFCtozvnZSKrWdLsBFgoHn59wGL3K+h40MvaUAAE/lu/xEWtWtVly7h2c7SBdXsPzhWlxguj0QmXQdIuR/N86tfHJ/vW9YUf6kae5gSgmUdws/DtXekmDeMIPQ7sfSH9e5hTG/6QbUGxJYQ6QMKyO6AMdnC9OnRyD5aQYtmuRL5Ua0tkLXt8ihArCxvfrlfAQe0FndvUEgV4uNTzxOGiC6YRUTc33/wj+5IGqqpR9qWbivayjCXSwg08cSk5FysR8RS9o/cJDhvhWAiEY8xGCO2C4KiEZHVE9V+F8Adsa/todGcArI8lg/RNwM8J3gbW1v2I4ghTGoC/eavU+31bw0IVmXiMuGgDDpT9fbYfOBAStdesqMLISqxBZf4S4KQDtj2iGh7tp/MziDP0mVKiuP5tRGJ1iVLscnsxf2gNT7xxmIGWjFVVtWPnTkD01eOCzYEpVfNAAAAFgGeYXRXyAaylws2D2mIKqGU8myGWUAAAAF6AZ5jalcL1Oc70p9U4AahtaxzY1X0QZYv+WWd9RGfN2vZ/vGxsCcuC1RSgikWgkINoYKIHEFbxv0w5ZJnORuCOzPRcbNFn4gRNdzVXOPXR440emshN3ns92eGP/vbG0XJznRI+UNPdXNo/qpzJnNNyZ0WpOR0nrXEyFs6e5pVBf825V+juVjIrd8FXjcfLXWFXU7LSRXd97pSGWkkJtq3m9npuhOR2SjqdH3V+WC+6ZCdyI3bW4J0iAPRLdPd93Zj/q7sY+I211tyHOqQI45ChaBphzuYig0Ci05w28R5fDhglaCZPehJHlxVjVATA4XmHaSHd5S0+EIsY+PA0AIahWA1kxgM8+Pg9qmuk0eC33RmefAXhVueTWBhEGPC69tplVII9wu9yoZ/Bo65qxHfgrHxnvXuTOFUCfQVVEtxG8cBm8wm+gX3U5Jqj6H8DGE834Vu0R59NYqZjpQUTmVXs58vFGWU8AlJqXXFyzfM6yqcCRRgCoifJpCBAAACt0GaaEmoQWiZTAhP/4AK+2NaaFDCDgZzyMY0uPMMBamfV9VcL8nLl5ckc2sIaN+0+O3bfNF9hRvn7ZRLAIJPc4ZYNJHDi/MbEIQRnINW5FkYA2jPD0WsQqmplK1XQolGIT6C7Zel7fdPmAM0AAf+8IIifkDPed0jyWhRwLCuDU7TLH+XIAO2za/pR0JgiZybtbq0RRnbmnx02+EfMnF+CuKSywGsx+Lx6s4GTiBmDJfDqmT64tXHK5w13MA+Yifto7hMPLLOoBipxkLkiKV2iq9zj/h+QJjHFNZG6dsQG8TIaoRF/+2MlqOXQTiVd/z7u+wuVLGnWlxzNeCyX+KHygyZdZJrbQhMxcoml0+QDw0FOVOlzu1IbtEq7Z4SyPvMzSfled81YobIVOQ8fopWic7aqKGwQOfSCY6l20igLut6ECYDg5DowLtHUOJLGk7N3471NzQZb5SpOWYMc0ZfZtzz+ylTSEKoL6dtAEQW/96aasUKNnJlb+So/ViyrpsER2CN9y6fymr65KYNIEvXdAUdbndAm89w26f18e+iHRbIZJh5dPlv/PCqmv5pVYzaz++HlKq1vXCeO9w7gqknDwtDkRH+u5pZLcpM7Zz3pj79QBs0575Jwwq4S+TbBK3YPySeqYPKLE4oMgo9CJkLp217Fv1Oi/VVMoAYDsS5V6v2Cya/Lhu2xWCbqa7W7A/xJU8DZQpZEcdfTO2tpoTzPPaZ9Js7dMiP92O2vQrtwDMP74lEUkE3Jbmy6y+91JDznThjtaEWtk1Y5xPHdBw54eGCw3PscCfaI1EjJvIbA0XRwc50wS3MO8hhYdTm8W6XuxJnDwOqucoxvF/7wEVqX+1QzTN/38iR9u0wan+TIR2S6CI/PRYFc+I7EX2NEJdTNXtstr4kVh13Bw6b0ST32nLVwEFc51F1AAABmkGehkURLf8IDxHqkJsKCzWHeD2v8RvymQwN2rMiRf8suu9PGqWgJNsyXNucjW3E7Ivodj+BZEFYGF4M4BqOGIYqLp+w1ad2YJdBIDvvfyvGbrQFZ6+mmCXIfv6bCXRIy4gV7AmmkVfhJDyaPhKGmuRY8BOd4R4Ir9haj6+5YVK49eeuFaRQhc79PWkwKY/Ko1wgA0SbsPpodnQ3HGHJiNGFe0zWYnuJwZsc/HOmlE6YJq+4i2wD/Wfh3+4feweTs4WNphll/g16e7dtcACfUEcm3Pc1RkIjsG/xTkHd3GL1TsJcGQB2CMTr9NOBvA7tExGpBovJ9c+X0xS61zI1FEH4/BTauqCECiDk5aNpiLDh0e5ZH8+ehciFOvzcW5ieaGnhR91IPmOHo+6dLlTv/I6QqMrUxu6RSzPZAaWINy95KFDvvTLdrez32oc3QmplM5btCKy8VLFkLeoZNYa94Qj7GHycSI4uWDnUW82jFLlGMaA389wEVAOXMlSrq1fDB0Og+3o2RHPgKk9gU3I6VA9+8ZP+yx3+Ajd5AAABfAGepXRXC766jV5u+HeqMqvogyxf8ss76iMWoiDH/d4DCqRLnU5MNxZ2uSQbQwUQOIK3jf4rmb2uT/ucjcG4zPRcbNFn4gRNdzVXOPXR440emshN3ns92eGP/vbG0XJznRI+UNPdXNo/qpzJnNNyZ0WpOR0nrXEyFs6e5pVBf825V+juVjIrd8FXjcfLXV1X07LSRXd97pSGWkkJtq3m9npuhOR2SjqdH3V+WC+6ZCdyI3bW4J0iAPRLdPd93Zj/q7sY+I211tyHOqQI45ChabYv8FJ5zB7NoIoX9T4jy+HDBK0Eye9CSPLirGqAmBwvMO0kO7ylp8IRYx8eBoAQ1CsBrJjAZ58fB7VNdJo8FvujM8+AvCrc8msDCIMeF17bTKqQR7hd7lRZuDR1zViO/BWPjPevcmcKoE+gqqJbiN44DN5hN9AvupyTVH0P4GMJ5vwrdojz6axUzHSgonMqvZz5xqT5stGZgigeRsWOb5nXOF6NKsgVET442IThAAABnQGep2pXCZxr2/+4haMQt8wKOLWq+iDLF/yyzvqIx0DCsgPkubc5GtrauGf5rxSsw0HAARuhKkcDte5iCJLTdjVp3DcCtoV9lHhI0Z62FIxb6aYJcie/hkIhE1xhtUMClLG8sMQazxeWGON0gPs2+AxzCiVu8n4G98OQlEZGqQFxfNUcc813vpcPDH48bwBzqdRHOkxSlSHUNe8GYhS6RfFm7uJ6xYuAyFzilqAikowo6lKvG4btF0O2TQIDSz/kD++PTxT4vi5V8bk/FujskZYMVpwmrcz9f6UHeKJsot8wZuiG5Zlyx+eABTotGt+NWCulc4nevaNedPfAFj4LGq2AhfB2JQwAkP54KpAIm73Pw80y2L/KC4gNyxadIQJR3hWR/Ty/K//ULflJ6RHjhhbZcrOYI8b0tQ06JZFmccQIGZOYvnTNLMQTgijQ17Jsi1tl5UQoLSIhC38wx6VGlh9WLu9qwcaswranmwYtGvI9sucmX6VX5cexKKEXakUoyeF1QAMfh1ZtqrzPilcH01e++Kk8ObqBsDRzM65AAAAAMUGaqkmoQWyZTBRMJ//98QDI1yxNG4PSWAluT6bIPLfayhxeJgVUSivYvEp/MiI6UpAAAAF5AZ7JalcJoP+N1sQfDJFksILar6IMsX/LLO+ojY6/z5f3jY2BOXBaopQRSLQSEG0MFEDiCt433KLQTOcjVg7M9Fxs0WfiBE13NVc49dHjjR6ayE3eez3Z4Y/+9sbRcnOdEj5Q091c2j+H+BBqPctlWue4yOJu+d15E40KakFCWOvESHx/iOR317e2hwqv5+EyJdIBfTjvWceG0C1Hiud1al8aGiU3Gi+LXo9yk9HxZs0ZSWdywJ0iAPRMCV4gLjPdMBKLuWTdXCgQZw/Cu+m18O6Yc7mIoNAotOcNvEeXw4YJWgmT3oSR5cVY1QEwOF5h2kh3eUtPhCLGPjwNACGoVgNZMYDPPj4PapQai8iqDMjMEkwwWrdTqKN3gA0CzZlpZjrqgmf0E4YACowywfVTErHxnvXuTOFUCfQVVEtxG8cBm8wm+gX3U5Jqj6H8DGE831JiEJj9nrEbhBJo2XM0zny6yuWjMwRQPI2LHN8zrcC9GlWQKiJ8mtsAAAJuQZrOSeEKUmUwIT/9XaaAKFs+wGpsjsejRKXwfCA769E9W8TeSOH4cNgnLOpYX1lpHjPDj8Jam9yopmyiYF9kbhqD+mmQbBudvx0z3aUDcJZZj4VbDd/zFNw1RZGcg/91WNv9OHtkiEqg2MCx7oulp+/uYJ9oyqYh4p37OR2Qqd96NpFfj5EHnJfXwgTNCmQ6j02btGswxvnO0p51MhCyDF4YbjI4QtkEOrHPgjX5q1RuJO5EtifOPuYP5fomOMw+d8JyjtgPb42Y2O9uIbQYK0hUp5/pHsoaEDQbo9fDjGsdBuywAnbU/OT1gpzuXy6L31LT3LfW6YTFMZ4j6CHTKldlEoMFWn7rqi1vKbpw7+tM78ZbuZPazNvBVWzo54DIBrVjKWjlkk1ZLL/mIdOcWDEQ7jcpKtIALNZ4MB/QYqIolkgxdc1sTJYsK2mIPtAHvmT+WGYSHD49Lc4r7BIUJE6zxwq4xOuLKQW2ggJuRSXJMNfBPZM86c/sqKTOKndGnKIWqj8piKayk7sgkudK3yxzUk2VzSsEsfiglWndAG2ejJKTueDrz+BU2beLTxTWfRv4eQodIBrCxSV3eVNWkMIHRxqmJxg+CK/llEt3wrH18WMWKfxeGw/VfQLQxXMegX3pxaosIsIFfMflBWqrxKOV+tphYyFD5Xwz+xIaou+HCuGsV83L7y5rk+ZYj7xo2Ww+NhmAiEf6uRoFJ7dfpsmGMtM5AOchln+F9CRaRj33Wl1RefBz7gQZIDJEc1b+EcFeAXGZpqA88oYEYOqs7GVxVUBTNPa7HnWaG3htnR2uZTQFT2YH/1dqLmxOjwAAATRBnuxFNE3/c50sLtHCrhUN/v/yECN/Sad9n7TMKOCGofTdQ4xfSx9wTqg5bxekSF2n0dg141uHfHGtjT2iKef/9rVUpWyv7DOVXsdCAJtE6pqTDslA19iZbPd0po/+zfUbpXO3KHiKypWHLFtver4O/XPVL+5vfeWkHODcXvdZPzdIm7cE3gBfAyji3mUQjb13MXRjbepXnNwvPAeRN71+fQi1tne7F7RdtijJJWAktMVqNmJN3FG0e+soZzSlB4hCMrisZB5Vjj0xInOUaw/sa1BR0R4GBp44J8wIUZAJVlP54PUHFC4+d+JyBYYG5bZL4JHBOZTw4xzm2Z8O1By4UP8XiPKs8vkCGp1YykyxS9hFivzpwtGnGYfQwoyX0rpBuZfkkpweTBcORoQBsOi5f9T3PAAAAYQBnwt0V4FqPISq+iDLF/yyzvqIzav+fL+8bGwJy4LVFKCKRaCQg2hgogcQVvG/cTE/OPFkmZm29cd68eT+hhsv1FxHgSNy25r66PHGj1OkJsoPIrGTL/3ZjyGZ2yyMvAiKlXwFylc8CDTTcpp1qGar1O2uJsP9SUQ/pBf826yHx+o47DpfHcOiWxE/Jq6p2Wkiq773SkhX4TkyZ3VqXxoaJTDy7cvJPtyn7hK3s8ZSWd0Hi+UzNLx5JxpbZkLuHmvtyX9bqlW2v1Dc2TfC2PBZxpK13DpTj3LyU4H6tFZDRyklftg31y53qOASI44JU5r3Gxy98jiPpG0au/M1B5fdA7KOauPg9rGts9/MX4xZBkwR52uyGYT8rEUO9ttFaZFRFoJn9BOHYYZ+uasR33Kx8Z717dAc6/y8FVRLcRvfAZvjH+cjpm7ol/EtHPS7DkcbnZh0ZHrEhdQVWQQ2UBdRWNupBZs36VxfO7A+WceWbUuOHUEj0jnQBQgoez+FNn6+LHLhAAAAGwGfDWpXcdctpnt0snC2ypljJuPDRPG+/Bi3QQAAAD1BmxJJqEFomUwIT//92iayGcybNQUjaW3eD6EA1k7U57kHdnvrykK/8TDyRuoFViXE9dmP1pMgVypeMlR/AAABuEGfMEURLf93U6VemqysyOl/hqDTSVQIUBJtCfSMaXStp6+PEqzUq7BtZRMbm30Qz6qi+EtvXzx+ScjFCO44ub2Z6shPeNIwEF+/LOj+tJ5/QVmteXdKs+owX35P2fZ4/Fi2lWo44AfPClaguCLC+AZz2px+SO69QwPw8CBwTuwc+Yihw3Vz4a68FRB6kjWi166Qz0l8CVmWLXfIiG40DcY9G8lT5s+7chcSdJWbCRHwhQxiwK0LHOxZ0NWgMCZZxZCv2r5tqPxA4MumDCC4ttWIczt1KPNSifvn4qPUJfPLlsEg1wzOS1/Gl4mC03J4gQFG3K5kMZkmL0g1P2ep7r42cDJYNqEp1jY/bH3UKkeI1wW/SwZeHdMA2z1gscDtBTrmT19oumP9st+5Y0fJ0GsgmNvmVLguJPrMLUdF0L9eYzgzwKHcBlr/C5zyz2oswe7ILUCP5oLPsFXO3yB8w8qMUGlqb1n1qnqn70DCyuRhIVE43cApxCV5fwJRvTcLZMSloS3hbzFfSVKpgQ0uSqz8UsJ6MSEbiFHkp9RwsbMH87kBoVgk4uGklIsWlNZE87w8LfO7vhG9AAAAFwGfT3RXgWM1OQWtRoBv+h+gO8J+NpdwAAABLQGfUWpXgN98F8UVvEnv18CNTSYl5H8FJq0gOLkPWM9qlLcHJ9BtI4R4ylWYSUG+kZfMzStMBOpfr6WHgVwrVRvlim+aN8WsrlkEMKfpG0mM6ThPP0xOctPH5cHfm/THrap6jZmDfZBG13YUXRd//vdX47x9blGbEeqoKAKYv/HmKdfHHn3kFLBi+MM5NnSZ3pYz0i1Ll51ph7t/77jujV3yKBdjb96hLBiMbaM/QtNlpLfQCn/6JdII22eRjZwswHFBnkA+sSYSo4iUQNcT+lM0j95psOkhJ4dwcHBRpIKcZi6sAP+3P9l9QoBVzYV2VBz/f1yvKz4MHyDvlP33e6VduH+lx7Ph9+41BuQGIlj5W17Fz3B8JGNm3MwpvXUaV3kPQgL5EjNwQDnwFTEAAAH9QZtWSahBbJlMCE///WL09zYrPa5hZuq343csOhe4vozjKVY5V7KVQwYj4bA2jWWUyuOrkmjVTpF8azaVHpPF7+TcdUZCLiqkG0u5o//4pQN3P4X/3VCU4Kx7snDwv4FQX5QQS6ELxJAZAPaoelmnXzoY9bYHUNnIt8VJiPlDiFhKjnjhJdisPAVfka4wOkqIrH8C5GPmaJCOj+3zaLtIW2ayvUQuMTU7PA1WIV5Z5OoPKuIpx9ILnmkdmMiUTZkRbeJKOWIlWMLTiMdcTW4ryqjQxR53iIAHCtvg83QddjXeVQ15FhIobW0uSoxA3XSdtoxoR1IiHPwJYs8vThbJ0+uoi+3lp43PrxoNgJuGIISwvgn+lzTmOCK+98dzJ6Ap38w+nh8lGnho/izov1mpUqphQA2z8GnRw+bV5Db+wPSwi+5nVXCgOPB62Wnb6MqUGlSsvTPb3JPH51VjVuXojBBOCtFVl7/1tXbZMuXONr090jmYx1j6wo94IyDZwvf0XHDtY+d338C9pNHze/wAUTHbPFOmXDOrUHF8tQm9pvmDBZEkiO9QDeFM8Q2Ai4WajZZ2AFMvGPpdMCq7uZtw14H6RacVSm5Jzo6anV5wRO7EiR1ubdvfkcftIc8Qjx0t6hu5GqsTQa8Rj8t0bXCu1PftSaGFzpKkJvCEPmAAAAGWQZ90RRUt/8Qk3EmsyOl/hqDTS2WU6zmdgfSMaXStpvXm04G24t8E3p3Sp1Mc30BnoUCXrGG5gCbQBOzP7bPBaSS/0LelKW3y5Rh5wux8VEzsA+CE9oyTwJnBpNg9hEOtldBBSj3dE2f/iEwG/NoZVlDZ822SKKp0U+3DQG3Vc1bnSCfMZW94sd6J20aA4HdV4WOfT9NlRhuI5W+Z556PO7A9SRSTpmo9WMK2XjQ4thGqBHo3OqTn2YB6Wq2dXJIcMsako2tf7MXp/DQHATn0/WMSyx6CiWnlbccSM4WV1J3Z78oXdyHXVfURc6gUmtyYdjLCqlwLCpIWz+SYegO2hn5NDVf+VzCkc4+VeEaCwvoXV1KnKPY3/vCkWZfotPsJqUlwnn6PYOZAUnSMBQMqw7+i6VNnXjErmXhVTsQVbSlMmwNoWT0Nh2hjyNzSBy/BsyK1AA/TinDZCT5kFtL2FRb3Ou8OZWCEw1bUmAohAjMeeFTKD+49udgXxOJhasbgHayG2iT+/u9uCSqXt+FQ+8uIrTJGOAAAAT0Bn5N0V9GjuHKIkz4hQ8mppXbkU7RmNXeVfKiXP7s3QyTEbkIYS4eB4sONAsPLEm9v3o+IXEe++oYhFrptXarNmSN4O/GQkHPVi2qnTh6XNJ9kguC5R/ZKJoSEfVK4ptAR21vN8U4WIr66zLY1qLAodDxZrgxku0isshH4NX2pDvm33+yW8AaYwGnZPQ8/ZGtCT7zMe/UZW+IQCjCo3FAbN4kZMEIePeEvVrnV7a+6WybUF9LO/lj3gLYXwVJt9CTT87zaCZ13bzhZxxcExTqlFUDNXUSN3ggrESfnCdW9bKlvQHtsuQnu2hnjATZ5h/vv9TIFu9MaVGNHvOvJfeRwOnBqPSHqA6cZQcbn9Vjl/HK9jeHewTqFL0ZD4A96nTrfZ518S67R8To9diXl6XD1PEjIDPqK6/N1xyDUgQAAASkBn5VqV9BeQRCYRYvCZzqs3h+vgRyRWEnIXjjuZXlGydG+01L6/WwdpYzAubcgqStnGHS1DlLYkZNVTpV89dDkDgyvY9I3sEgrKNEUZHW2OP6xcnWExe8juZe+y5hMqm+z2KuNySIU4wEKaNbpwQIEyugNdGDk0eSx2jLWtZa3yLxpRyADbCBcNyzTbd2hDvbP0xT0+Q36LUNb+XnEY8xxpFJf1Fe/et6aruYK0B+GzYNxRXjp+5g4cC+MKyuMNiMUaBxHVB7h25DRPVnHb938pbx6YeoMoz7Ldhnf5emt77XWNvcMiO88QWDxA6kagiwqCoUFypX5VaFJovZtbYbEvZy3Q6Y6fQioyF4x4MjwUU2qyppOdtIDfko9iMX7c7PO4u21q6h0aTMAAABaQZuZSahBbJlMCE///dffG+YksW0a4BG44DMGIbhFfeNOgzgJcUsMZNoFbAa/7Zsg5Wv6R87icUAinVF9rhM9LOpoJKiiMcvMpZ80BjF3WhsICFP0qQryt9m7AAABfUGft0UVL/8I4OClrs2mgqi8Dlov1REsicX/LLO+ojSEgZn/vGxsCcuDSKaCw7LehNLKzAUZ5gpKumbiM3rSf9zkbnz8oyw20BVxpAOYW7J+rc5i0OI9G8hDJLTbPC7QXivBJVt41D4oc/PsfW41hwL8+BfQERJ94uL/JFnvryIb1DftAQXNHsAFPmGSMrOOdOgz9FvX885RWvT0kQUeG4ALjukLtAi0KDwsPpbBGyAwX44cYCpR0fg6HRiRh85pOHu7MfuT6Qcr3lavcm7A+iSoMztNPsYTzmD2bPYqlU/BBK+YRqcnJXrYP55b46jgEbOOBaLrItQ8O+kP3wraNW3biQogayYwHcnHwe1gUWZxhcbvGIVyoDt+aTXdAtIme0KYMSqDNGV/QTnLUKJDLB9VSOxHku9e4ffOv82JVUS3EbxwGbzJ1i5K4Mz5dT2g/YWBTihr0M0ecCjF3OMortahjk9gBeTnVfYQ//P2LM4L1NWN+jSrYFRE+NMhZwAAAUkBn9hqVwvDKiw8znq5easTG5sWMcbvKvlRLn98ivBEdYTaWDe2Gwp2+yGe3VGt22pHV8VFiG0/VWyIfo4pmlwbWW/kps90jscOK6br2MdxtGcQ4Le9adW1GhkxGirgwCMp83/53d5h1KjXNVKK0ushAMYll/taDn/n0JKWD6AxBt4LnzugWYIBrGtJJLj/N1MBu9n4/bIM7uhBRWxr6y1H0ymGK085/ndYJCUq4OtP8HsPF1OzLotiGGByy8iRhL0t53x0O2Op9tsgbBRUEgYz8OCYwfb8zA+BVDlBSb0uSav9TOQkwpBu7D4PkWtza3eb6l7Fwd4JuSYETZIXASybGyqRXEenc/n+nIlGyGlkeZDPAqLibsuhLGYgvABDJUnufut8KfdCwKDxgcO4zp/TV52lZ/vxcZvnlgGJlGhPQS2XM5MJ6T9EHAAAAUlBm91JqEFsmUwIT//98QAz4RQ12tugExKLCFrMgsfuG6ORnGfeuIXmHy0Bgt706O7vQ+/0pa4XRo6is78lf0jL6S/ajyX1AxphmlC8VI7cqplkpGoqH5i6sBeoli2sbhWitBVwkH4KnQqBoLOCwW/lbCHFwsxdfUZb10P8oiEvIyrowPVhIRNCdLZJwX3w1NqqAlHMIeLPPUgFOeuMK0sqzQeGtz2jkaJ1EP4+nV+qXUGS7AFdhP7DcZ7AhiyEnJXxyiPU/FlZ46nEw1DS5l2NoE0SR0P5wwDYwGlB3OitrzjMNBRzEKdETIz2aSHsx9UVEzFZ3IX2+TAE4nt4R3n+EJ/Wi167Q5KVA8jXweL2BFCiHw24kbFNmr2r29xDysF6qusWUn+Z7AUY353OM7M5r7mLz2Vb5vouGr1V6g1hLNyVBuEGP5iCDwAAAZ1Bn/tFFS3/CBwTwgRMSJIEEBTcLkGO5JrMiRf8suu9PHXvQEm2ZLm3ORrao8reh28P6+1wMLwZwDUcMQxUXT9hq07swS6CQHfe/leM3WgKz19NMEuQ/f02EuiRlxAr2A8LznyHnLEwgQGNUarVf/gJzvCPBFfsLUfX3LCpXHrz1wrSKELnfp60mBTH5VGuD2hF2OGBXn4zdQdwBPV8dbun7EUQtzg2Q6bIbqHfAJrFWaIniwycA1Rdp6Xk2HsjxEgz6BKtzWY7a4As+oJANue5qjIRHYN/inIO7uMXqnYS4MgDsEYnX6aZoOD+GUQLLDqWODbl4diAFJq9flhPYTq7QT4H4R0v89wA5VKbBzAHVhNcuAlXkQt47NiMtz+WiAmL+WNPt+ImHkHzHYsGBi94Z8/WC4NCXP2AZmrTubKm7r290mUa86lcE4HBKwkAsaCWUJYmrrfxt3WU80yuWKISfoD5pgdAaQr8uBUV0H5DBtd8RWqLPuJfrzDZBIEYmy7LKJMIGgctYVDv3hakyo4BaOPB3wuqkxHEZr2IoAAAAXoBnhp0Vwu+arD+Xbp0fiYJBli/5ZZ31EY7Os+X942NgTlwWqKUEUi0EhBtDBRA4greN/eukuZZJnORuDDNnouNmiz8QImu5qrnHro8caPTWQm7z2e7PDH/3tjaLk5zokfKGnurm0f1U5kzmm5M6LUnI6T1riZC2dPc0qgv+bcq/R3KxkVu+CrxuPlrrcrqdlpIru+90pDLSSE21bzez03QnI7JR1Oj7q/LBfdMhO5EbtrcE6RAHolunu+7sx/1d2MfEba625DnVIEcchQtChPOnt5zB7NoIoX9T4jy+HDBK0Eye9CSPLirGqAmBwvMO0kO7ylp8IRYx8eBoAQ1CsBrJjAZ58fB7VNdJo8FvujM8+AvCrc8msDCIMeF17bTKqQR7hd7lQ0sDd9r4syRBWPjPevcmcKoE+gqqJbiN44DN5hN9AvupyTVH0P4GMJ5vwrdojz6axUzHSgonMqvZz57temuWjMwRQPI2LHN80c/S9GlWQKiJ8fBrzEAAAGbAZ4calcLz7gJranR5bfcQ1X0QZYv+WWd9RGaQJjQ2eS5tzka27zzE9/zXilZhqeAAjdCVI4Ha9zEESWm7GrTuG4FbQr7KPCRoz1sKRi300wS5E9/DIRCJrjDaoYFKWN5YYg1ni8sMcbpAfZt8BL4fErd5PwN74chKIyNUgLi+ao455rvfS4ddNfWAsrNnDYADzFKGjycmLzFx+4mZVOR3dbNU88BkLnFLUBFJRhR1KVeNw3aLodsmgQGln/IH98eninxfFvux2T8ykFUgUzytOE1bmfr/Sg7xRNlFvq0HCtyzLlj88ACnRaNb8asFdK5xO9e0a86e+ALHwWNVsBC+DsShgBIfzwVSARN3ufh5plsX+UFxAblQwN/pEo7wrIskoqA/+oW4Y08iPHDC2EvSj4JjaXr+Qpy5FmccQIGZOYvnTM/IiIScULGfVGfMt44ZzMgRrKFhbWCBg4pYfVi/PasHGrMNX41MPZ267jC7nKwflV+eFwUFNF2pGKN2YQIRjhMaKYQgkUZzbjIKFfLcQ3sATJWDRzF1Kh5AAAB6EGaAEmoQWyZTAhP/9dpoAoWz7AamyNUPdf1hbJ9FrbH/3dBm/Q0WC77aDxzXka5iPqXwSPfS6fH+ZPFA0McJDuSaJjuUUzni2D8/cSoa61ToS+52hzG/+JB/P1MSGv5e4tjj4MdpOZ+KXg7cQCuZ4MqJAIiKrJBQkTNPT+z8bm+XOOXPuahLiDHqO+4fgfWxi46uJL0r+vqgSRZ+XmMnIV7ONtzoEjzJQb9Djm66HjxpEgFZHhmTcXOcHJs7vXJLA4suJgUuptyO0WAip8eGaRjcUPNK5FdHrci/gqT9lhD2tmjwASiGqMcdrcDHNJ6uu1wTZCw21AIdqL4IYAS8liJuZn4KEmcZ3R6SjlZfyn2JeAi2w24xKckFvjfKTam1jrkk3lwWRnBdbzB0oaKmeQgdhfxzyPM9mv69e+jmzHWVzeIDOE2y8S+5xDFE5T2PI8u0NXV8sCN+eG3DpwnxGm2q1X+sK4IPpmZD7VEyQ6ElzSgvc0XiZ5PekuKCBpc5tfgrRsv8hTufBhGuh3rJTNKBdh/Yc0hkFbAFw9a+EVNTPsUoXmPGBMI8QEDYOLYCkNCPb+C0LK6+Zw5BW1fWRoRwAVBGYh1ynUGwQQgphol+HWGRcuOnY1PUM802QjDVjoPFJBzrOCkAAAAEEGePkUVL//HFr0kGeHlzOcAAAE9AZ5falfS+cdW0dsaLct6gkGVQMK5qMIO6o/jEEZ0lYqa7/9bq7h3Ft4R8W14Y3KctuSVDqtLEOiFbWW1/ZsaZzE9CrmHMEdirBsTcwxhnHwnCjwJKLGPMdjdIanomQVmc2DIZ9ARbMCoYnFZt0vH28t++KEfK02wZoFeH98MAdkTlDkPLnv5Csm7bwNEu2GLOcm8dO2uaHw2Dr3ClpAoFlmgXxcdCxsHyRvZ1NMBT2R3pdt49oLwKUAfkjzQK7FKAVUypUPnKOZ5XJqQ0asAR3Q0yULYP7tnLCxK1ZTqTLsU8r56aiK8kOcZVqk36OXCnp7pM/JKmgdg4AcsxtQcuqQJJfQkrRtBPYhL9VlV/6ibuWIKKcJOspw5bDG8KmA4qX7UZ21/mPlwNepK5qdx4Cma/m8NARdmHTHwDoEAAAG/QZpESahBbJlMCE//2SiyqycUoTCXbMvfFK9kFk9gni8d/Z5rSEM+fahLneGRxhL6jG75T+jntK3BTbFF1ONO1wdf/mZ0aub1ens5lAhALu8cd9DN0UadgiRecVkcOTS6cDk1y7FbHugULkk4BBd4f9RfPN5Wr4/qdudxXk0qsoPRrmh343CGfDpXlJNaTmviqVeJk/+KwITtQJg0qvik3uiy4rpVu6FNYZNVOqr+x5QHwElK53mCEqWgVTol2X9YHwpnoubLHlf7seZFYg4jjR+2KtWuDn/ruVpfRPQZTldTv9AQqkgsZTE4eyKxRkUEFlzLTo/e2K6w2XtENjaPM7Bwy6Q/IbfT/olmC+YLBW1f0Fe9EVL6U9sNcKKSEFcbkQuscy9KytbnU8Xr0Ht5PZ2bskKvdtThAlcMZNN7VtUOJCHu8GUdlpjyuqBcoxx8uNA6vOXIzjE6oNNlU9jI53Uiw1C4syXAhwdaRBTM578Z6SMKhXn7xfUHYA9t3FCir6ZrrncSaEAdKtYnjxvlD8+S+5mpiijSd4Nmhp0E+OTJkoHo/o3J7Wm7CRN3i1uTkJP0cH8z+mjCwO09wrYUAAAAEkGeYkUVLf/I9Il6TfPZuYf6QQAAAAgBnoF0VwAW0AAAABABnoNqV9B1JqXZWM/3FvOBAAAAJUGaiEmoQWyZTAhP//3xACPJIylqxOLPZI2lXtICBhI/HnSo/1MAAAAWQZ6mRRUt/8r7aMCXlV6oKCr2dFwggQAAABABnsV0V9GDUT+T2KG7KEyhAAAAFAGex2pX0HSjrgLYwBODuxHuxT2AAAAAH0GazEmoQWyZTAhP//3xACDGwR40LCKhHVsx27oNsIAAAAF6QZ7qRRUt/wgcE4iLJAVMGlZW97tWZEi/5Zdd6ePmOzKn942NgTlwa7kc0gNIW4nrv6SUB6FY2ukPi9paU4YhLEwC3bZAEBfNDzs94pOVWZuxZwyMeotMktXAEa6xlVcElXmsfNZQ5+gWWtxmrgX58C+gIiaPw1Hzdr6/LkAEuFJh8xAyJCT/xqNgDehWy3DdfGfX885Q5TL0kQQeG4BTqomzSmUgmA+myrVkNXtkOo4ctCpR0fhWhjEjDj0Gczd2ZAOmz9ZfyEzJddDxcPF6PDcZ/bvFbEUGgS7znGIBbSTU1rn8/nuQubdppYzEE844LHCSHf2S0/CynwTvg0xoahgg1kxgNtOPg9rJPlRbgFeLv7uelJuIGtuExBq8/8owMHkZ+2xr3KhpAICN2BZkn+xHku9e37fOv82IrkS3EbxwGbzJ1i5K4Mw3ePofwMbhiYIqUTHqJlnHnOMZROe6el5lnu3Oq+wiAePsWhoXqZ87dGlWYZAOjyYxAAAAGQGfCXRXC9J2eFBiEYdCbwl1rHttGcKMEzAAAAFDAZ8LalcLwyosPM564RK9bPrM3/TjyHrLd9I9dp0O/lnqVkNxoHJbLz8DW49dutn879EBizF8ND4kPyu/NUnomgZ2tWZRSrHYnVxZJf/L4WpviEUezw+z6KbbHyrd415Y/2/TQAnab2wLh/sATY4JoxmbTaHB0kvY9EDuh6efW5V1oqGS+b2NND5nc5oI8IGKvTPVp+KoFZOqRHPdMwNpTfGBRJ5TDcfsuppnza8apVLMt1+atgRn8CSefRAxiRHlnQASORIuRyzFSoAFSiYtvb8EHgBSAFUczo7v5ApgP4YskgENiDps0s7zY+thAqXvOT21hVEk5e0gT4puo+c2+hbpWfsm1/4RtjeCP26YPtywRAqYJQKYDjYSJBHk1wTf8UQd3hjXuzvhwly75Klqc66HQRX2yYvNJRXc41ysK8QHRTMAAAAVQZsQSahBbJlMCE///fEACGmv7JSBAAABtEGfLkUVLf/EIiWVmR1CFstyKe8vB80Aj89/93YaNRPBjQ2EV/kKIUWNV3wvgTYd9TQDsBldV05SQNcT84CmSJf713iieaQyXy1vbtQXm9nj4ILkQyE97SYBzYMgSrc5h2iQvjQOIv1rIPdSsjXYomRRpPsg8SjCi6smtL8jLRhVBeUB8EGQW25RKq+NUOBksRTHkVI8C5Y5ljYZE1Agsl4Jvgw32evRp/H4VQHUL8VevqJ8XU2xbq2roD9DjcKh7U43/NqOIAJshb0VD0TazDVQHoKgSssh8VVc8/pw4qb37PLaxsVdCY+N6TdZud8ui5F8tsw+2hmmbNkc6B9am6heeG30wHmZvDKQLrSB79LIKDejXHeVRMDcktv3Js4A8pXcoql9nflsKaU5a4rT40+bxhWaX06IlHRpdNrJu01oC/KJwZ4lla2Aztxx6DfeRxqSzyO2tzwGJXiHeEBoN+kIItk5jagcuiiR1x1cAhTZSKnTjYH6gwXWnnyNN925P/hvBDeTSxGiInz0+wRdeW9Nvuvz3okPHoT008+a/sR5FtZB3bgxs/hTNvbnLvXwjUTUrS8AAAATAZ9NdFfIKq8vGeQ348L/fhejcQAAABQBn09qV9CNPVkgH/j1/S070WK6YAAAAHFBm1RJqEFsmUwIT//YvT2K5xQgfYAVVNh6azaBcHCFXptklvIjcL2cS6He3N39cEO0F1Egb7pPUURvmLL+hm8pVYvNYHltm1AzJG7clhBWvcB0Y586Ce1oPj8EWwdt6IRG3FfQCAhwiaFzt6di22v6rgAAABBBn3JFFS3/w8ildIsoS3vPAAAADwGfkXRXyAaylwnwN85c4AAAAAgBn5NqVwAW0AAAADZBm5hJqEFsmUwIT//98TPTfX6P65o0Kimy+j8iO65IdOPn7oJ9OlxJNyyK0rkmeNb/Iu7ZSt0AAAAKQZ+2RRUt/wAPmAAAAAgBn9V0VwAW0QAAAAgBn9dqVwAW0QAAAwlBm9xJqEFsmUwIT//Xaa+7PsB74CLfGwyeDxKf9eQ7/P9sRmwKYHhc4e0qL52rw3hAB8h0mMQExwz50g4DiQNNu/izUQ6F2tuN8xlU7flfJSyUH+AlPCuon3NXy3kIyBBkWRJ+//hialFp187XZ8nLbj2PfAvoMrdmBlxwK05IwSKlzmaF3woMSOfYTQO+VwwPolMiZYJDMg5u695zzVEkBtZCEz95Ahr8wa0e93a8GKGGXh1C/6DsHbreLcQEVBpiwrmSweOWdt3iO/HC1LwvhQ07H9OzKrTAYNEoz0PSs/UmVN/zKSshhIiIuKIBe4m697d8qzXjpsltzuG2sSKc85hb8BRzs4b9UWcVaWj6BDZh2huj+KOMY9yemwvfLKROVCVxjWF24kgA6aBQIkhoPih/h5dlm3NUta+mZOO5DclONBw8OK/QvqA1riYLQXYz5mxkMvEPzmfdhFVnSR8doWfNXCH5SJyzG7zKZh3A1ZWekJpOThH3t/v7nYq4ilBBrlHcQyXQJxcOX25R3zfsYIeTlwhMwx7JirTi89Dm3fSGx9BpYTu1op8SkUMi0Qy2SNh0j4birepfY2N2pkZpua2z8pfuIM6zFGly/b607R1sILbpA9qFegDlyIGqli4lu63BnUlTt+6sAjk3rkR8yG1Cw0rljJ8eXVyvWVCWblx/z5XfJxkasEdlkGvx9gmE0G3Vgy7brnhRRRh5HddPl/K2o+mryyf+bKWInCI1aNK4SovnLnwEA04aVoLS2i3atk9jeH1MJHK0RTt25YiuSpVTCgCU3Zg6EJGjUaUFOU0sLO+E+ZBoNGH+Crg1eTz5ivh2Lv+ZL+eA91HVOz6VXuPR6AC64AI9oNGwn2+1jM9Ns4outjDJPZoRl4uOavzougjCGWsSFh60CRIT8hg3IDvXfwEqh64SfinFF/oM0C5jm8nLiKRcjH7qsOJUCG0Z/H9pNaUqIKS6O9rubnZJPFjkYKh7Gq5ewBs37j5z7TG1hBcgjtl+HnBhgctzQoelSJAxZe5M3mgAAAHEQZ/6RRUt/8PIpXSNBL2rMjqELZbkU95eD8YCPz3/3dhph1PBjQ2EV/qECFFjVd41SiJeScd7XTydceVaEdaKpEMOZGBSgGw4ECCh6U3eTnc/YY9aRExhdcp1WEkyh9pyquQ7KgxogP67PgKdTpmADYJK4htQN6kZ2pPiUCrn6U7fy+CPooV8LHfaOEqybUmSp31PogUi5fFL6E/6v1pLiRgym/64jAfEOXppE/41nBRXbvydSgrR1/nYE3Y+UulngMdTUHVjJOVYKM68irlianfoVh6flked0PDydsCP4ND5r9miFzjUY4NxU6TUruBCIUYy3B0W2kpnPhTJydmpRH/5INR9+YBMWSY6QYlnMlcteGYhEffLSwQy+K2iiPXy7Ix1lx8sN/u78BBVkEqmrZOACqNhLKaxrC/aWS2De1U/ndFZ9emoto2ZnfgqXDIYLTerQILulMhUQPBKV2j6kQE5RQ2WFVoPaOZxIkNw93a4ekPN5ZSp+WzcsRIj/3+YSbPZEsTiZ37mzBxwg3sVu5cPpIVNgkxxWLmYo1pLTZbRRzX9de8gCVDALeXBUc6ONqn27sUaYoHJL3MUwozDIDZxdScAAAAPAZ4ZdFfIBrKXCfA3zlzgAAAAEwGeG2pXC8+280rHu7UsAc1Ez+EAAAGwQZoeSahBbJlMFEwn//3X3xvmJLAfoRuefFviD55/dSqeTUxnl2Ftu0Xu1Nsp5khNRA3bUuk+O0wJraCeXPqm7bw8ONbe2kmne9Qx2N+Lpin/+hREPlGjRRaGLADNh3qrTzJhm5ECtDNztaIUlJwfX1OnljD2mHchvyROaER4IIzAsXtgX74tIMx4WtF4J/ov0RvTQuEGtzxqzDUqyoSO5JPSoX1G3LyzdzEDmZ6zINTYd829u6yvIWCXQm7vz5GMuLCj9XlKfxouzy0lhy/iqGuDdIcvqEu4jsi3tTm2A+8sZr8TZwOAm6bV8gt1gfEInfLVSiTb2BYKBt7wrg1MrJN0j+K/FMhvPZbP1/zIs+0prjaVx9j83qWbL+IXkqSx2113asvmk0oAf16GNz/LwCuHdUrqzhHw1Lb54on1vOOLVFGBLA4fv54aXntpDuNqQARq7aCdWTlb7YpVnsVyHWR9WC1d8I6UOTbXkeHibWrGcMbM9CwZQxtiJai0axk3TGSmJr28h0a4KlRaS0GSoNOZJky/CtCKI5g5sx1EobU2rL/63VAhHES0uS20OcchAAABmgGePWpXAkg/6OLRliogyxf8ss76iMSYbYds8lzbnI1tiPNSAQit3w7Gm0QmwTuJLUcDte5iCJLTdjVp3DcCtoV9lHhI0Z62FIxb6aYJcie/hkIhE2T8u/g5r+7bx567EwgD2DFh3f7vATnWLTrhPwOJLvGnjn+mY9GxOhtKveYQb+sraL51GuDFhKYPloWKz+K8HcAT1e1CUWlz7famY47+feC0VqtlLu6uwAVQybzwCA4PdcwgAiI5OaZBKtzVIQyUFLlHGNXpq6E2FaCJgwcU6sQaYtjZHzIeTl0FRidfymvkxIjJfDKIeFB1LHBty6exACk0evzXfk4K1DpZNiHUpgGQA5VKJT0ywWjMFOAqpUSwA9SbRlR/LRASsrLGqDO3cVhsxl4wrWM6gwSQqh6HBLn7BCxzMc7Y6h7Tl0mUtd4Z8AQHBLEEI0O2Tw6IZcmNg3x3SgWRXLFPyP0B80sfINIV5Ccoe6D8heXgGImlFoA5ln3pdmm8bX5HFv1+wwuHVXHfZMCcXt+44NkKz3B+cESkCk/Ga4g/AAAAzkGaIknhClJlMCE//fEACamozLUKJIwCinU58A1ez7AIgqPWxY6g9eMSVFqnY7Yk4/I7DgFudmm6DbL0gUjYAJGq9+rqALJYfW2LvxvKFcJpxV1t9lRny5zErZ0xQu2ge7oswPu1IStJRj+6VIffu4Pa6pDXjDkIfm3ieMFe36/jKylfnJvgnuLpIiUmwsCDUNFDEvck3I4YfZrbEKzu/8I8oVBjdxu31vwLawk6tuoFrsQd1YoCAJsTx/Ykj9NrjTNXVHL1yaELVKKuOd8HAAAAG0GeQEU0Tf8IHUfS1O1gewYYYKAJG5WsekxsoQAAAUYBnn90Vwu/SYcl6/XyTUg4VDqMYqfXkrffyUV2mP3kWepUxTGqxqGKXoPj1W9gg3yPAbTE+CAcUrWazEKnOanAHqWFtRcGe1erwCGLyPjUZEyFf/SwfRdS8W/UloRwPaMs7wyxcBGAfrTESRwyCyD7JEE8wdffIVp7CCLphKJgEmDF+vpYNJ1NAzOIdCD/oNR1zNoV1Jp4HpktcNnXBvpHfXCLua2HOxdptUmOoiq43Ey6iFsIVjfq/iRFu1yWBCq16TTYHeZ1xCJ87DQsdS5MH9yNkUSKZrVsZ/5tygIE89rSZ563BN4M9qd39ppyqArgjCTJLhGf4HL6Bq+BD3fL3fZZD7K2ECpr6nd32smwdEkejMZXuGHTFNTfrGCCCLCctamzYrnZ9hPSNa2gK+vD15IdrnXSp4Pvl+q9/1OPGgACiJn1MQAAAR4BnmFqVwvCNgPB/F2EaCCEL7W+irx+vgSTKk05n3K3N+A8o2b3eRSkeTpRwZJf/yfGeiUKL4Etro3ug4O4xYtkscocmmdN8OXHoYc62nXNinB62Wq/nJFt6nK+NQwAkLHPyqHHPSa1XKAmHuNHWtYYYROgUeE2M8AdlfjNx5tUHDnEkOu13Zy9e846kjbpTEZmTmmC6GlIt1DHaYwjIQaFMPhx+FYkhPuqbOF2+b/cYTEnpdLbvT7+RFJUDJY5gphZr+ttoukesq6hCygXwtt8fOP+z7ieCVkXq4A2ObgJJPEhsezaY30B7+j15L15qYt30DSH/TeJguvsnoKo6/rSTCAY/knE2xWjp2lsxcygsKlnWJi+MA8zMaZNTodBAAACLEGaZkmoQWiZTAhH/9QMdJNLH6Nc6hU7AXOJk0Cfzr5PCf+H6aFb4j1bpFrDN5UTUaZtZdhGxU2aT+fGygftHoixZdszQJ+4lPqOuiuEbnWVKtWpgLU+ccgJARZVpCrhvHh0gdwgInSyygK7mcCLkU2Q8Gfy6jKygqhiqQNOpvD16/jrMWenqrmAbKk3gd8CHuw8BPDFcOzKGRR3sMN3bs9e2A8nFIZHbivT2OoXnnqKE28oE3ldS/fPwtEsQDtObh9vXVe7nxNToot257k/anZvTAHRN7IHyaf7sHLXxEf2kP5JHzRwcR35sVtNLbaR3Em6wymfqYBcUBQzUSrzOm+rdu1yUbQffSfeLqCTxADr8uLhYjDZGFQLRaaajZTeQd1pAxvIn3BGjchT5SfUpcVfoOJ9ygnGrKm55uOgKX6VXHwuQjFrZo+JCEi2tfXpMIvUeX6vOe09YP7eWUNhgqKwbnzcPwBP/Fx3bQRa8hBtplLYcCjFDhAdhslG9zjnaYnaU1Zmm4kMrN1G4kSKbFo3Kd5E5gK6MsydoBdHIwyrT34xaSmYoo5B/Z0Tqs+Z71Zp/MkMGSHYWeTXXUFPULB3up7TBJ9GPPSNkMGevoAhHVBiUY6EUFfgbyICIhefu8kMFSdsvBNTXZkAw/UhMThSAw9AOm3NgaWe378PnB4sjVuCsUR3eje670kupKwCzMJv9UKbEkJpwAaxPkas/+ALxklzWBYcWnjFjsAAAAFrQZ6ERREt/8j0iXpOOUMOflKqk5HM08fMA6l61338KwX1Ejcu588Q823qJdmnyQ1I6z6lTd67+p9YvREGgs3PyIsVVSqj8f0lxbrXDNnA+nLG422Rjk2J05NBDTmfLEDzeN/2RPbvtnG0s5Rwk/Oky3QGpVVMuI3sXd1wUoMo9rV4GCm4duWtdxhU5R1LyGWCaJQbkjOBE4Nq699TMls/VHyU40jwTOUK6IcGQw2L1QjgW0DQka+94cvNVEti8FlmxwbG2gr6kSbrvN0O6oQ9aokjfr7pDAEZDlWZjQvp3wF8yCsAOJYNcRRO1Q0PBRJC6n4ZH0jZSJIEUzhyG/JmYrmJeXyYSN99VIN/Y1OwPYyaspS0GyqnHqkzdu6a+s5cWxP27DO5AW3U32KsCvbr8SkMPUMc6lFK/YlUuDAuKsCsTlelNuu7O6d6QFk+6bKyuoG5/qkeKwhbXYGb9MRUCJSbo/ARAxVJYIGBAAAAGwGeo3RXC9G0EToHhl6mSekx1QKDOXnEII+0lQAAAR4BnqVqV9B1JqXZVmejq4lZ+mt0VeP18CN/Sacz7lbm/AeUbN7b70NH+CJrrO4lCFnolCi5vAOhyjWMT2LMNQh0lWab2b5tGfcK/0fvnWtxvP0xJkjUmPKNvzfmw7gnXLcq5txS+pstSHWyIbqZ1ZaJZAr72YW6mcSrtGvJB0N1D/5VQLRf7JRlIpXh4ghB6YrTMSM8C5UyHJM6xna3zcN06gsA2e6+YyJJ6G9fnA12phQFL0/F9ARtzQXRZyAFVzxZej0c4a0d9boNoq+a875W5Ys9XgKYehiHKlpqj6Oi50HAdz6n3K6vk/KpZ8fBzhg0QPLF1H1G7h0cbxKettAtaFsHf6n0piZDmWuVKFwRxAqEdzUPkkKNJTUarLgxAAAAIkGaqkmoQWyZTAhH//3hwwb5QfsLYDO9NtPTP+u8Mh6oVUEAAAAKQZ7IRRUt/wAPmAAAAAgBnud0VwAW0AAAAAgBnulqVwAW0QAAABZBmu5JqEFsmUwIR//94QAc7cPy0yvzAAAACkGfDEUVLf8AD5gAAAAIAZ8rdFcAFtEAAAAIAZ8talcAFtEAAANtQZsySahBbJlMCP/MYf52T9u2wimD6I9iBPP+vO3fn6gDjVPL34NeIr7XVUdIgV8Jd7QWYao2fpHmnLiFt5brlDmAn8vIzc9kB5jCUFC3J9t7SGQ/TRQ8JtUWngxYavTfdMJVJFuAZ7mN9JZxZNBXsnJP4p+IiK35A+ocxHVhfDA/CPXYyl2zRLe2ZKBBtkHbLb0QzyvtEVWklcfe0xBGhpVMf+00MLjdeJq03NPK9URo6oLUiNWis4Qto+wqv9McCy4HL6fcNBmAAnHIVwzzB3l5OWI9Ed9lscJ41UtFAthgUaQWJL37DeNWxFJZfcIxNG8N1wlt8sNUkswiLr2KWT7rN3mogKmKBl8OS4Fl/ThFrPVh3hwGaQFMwTtU63oj6Fqdlp0oEG0RQnU/sE12KSrt3WYdx0fs2adpkCdVIvdbskxIv89Gzrg7DWAkqLlhNun9w1TI+B6JZevRcdID0RxaHrtGRymWUKdmU56vCqzlVAp1FGmRv1bAPtTblDZxeC81bDpGIRqpK1PON3ZDY8m6y2UX49ldAwCZNMMfBokMnsTqXo4wC2O+D48lheIlnE4syyMNuthb2wMCqGm9kCUqkd8SJhYkIdjFbscrKxY5z7bQNYevqM9sqVErsEx8KoTzKLy1c5jmTj5VXIAcHZSs5YmQ4TVlp3PZUP829PFHBGGrmElrFaaK28ZvEBxp/WG25oz9JiorTe+j/G3t27Q1BLNRbEjHZVzFyr2W4ZiMy+tYo1tHZPFRQYzzHGhTslq2lRJE8kiqCyzu+Q8gV1XpeZa2735AqVXjpq5pp4/npEnjAY5HxYnVaR3GF10HIb+uNUudGoc95eiRbxc0V87PqN/yBa/ILZV3LxCAt6nRbQzYcyw7qRtGr0Nug9mx4Xnkp0ybQ05+2S4KAWOKwfhYwGN42KKhNfrs+fX6vYSa8gKNqnieJUMkFgadtBEXdr16hFfiuuh++067IRISvpeHb7rFY3H5XGIIYGcvMFWBNNREcPfqcEWmnEgV05ZYQTNaPT9XRVIyPGkRzsSZENoiYIDyhDcPRrnQI/wgQ8D4YDF2eYCeld+dOGSZRANNWlCWZ8N0DT+RnH2/J8eIagGbDytfrZ069MnyttpbgzJquXgmr7c/NDd2hHiOuCOb7j9jqQlslYu//nk8TQAAABBBn1BFFS3/w8ildIsoS3vOAAAADgGfb3RX0YNRP5PQaLtGAAAAEQGfcWpX0vtQSHRg4BRJ/rqZAAAAEUGbdEmoQWyZTBRMf/yEAAJuAAAB+wGfk2pXynC8TBIMsX/LLO+ojDTOhsf1+jYGJBuuEmG5GatkjvNC9ku85GtlREPvZBJuYz300162lwxlK8pcYaNvVkzAaCeFgJq6Airgn98qyzVfeWGadEacSU5YZdxrrMil5aBfZ6z5A8PSFRP0YT+ZwDlB4XpmyIBQlc6wHry7ANICHDfqrQ+k1F7jdYEgMpgUBzORS4/m3zIVljKFC2FAO7f8bvRg8ZHn3r5QbOrp1JDIPw5eGWpPO+LMGvj9nPu/QLyEWhHrOcKw2Jf8YmXvw4hrvTu4QyCvUvE1xGNkiqqNkbMa83nbyuzstACNQgD2ztmtdAX4NWouJn85h+lYqYpx5kO3f1ZZlSaDu18U7P5Fqj5ZqsTRIv7MIMQ1NSAR143qqQ1HSbe1tS3xCrO9rxCmytboI5fRsD/IpoGgNsn8HAujPhf8Dj3mvbvM+oX7BTcNikgrS72gksazmhjA6sUPcUUQ5wMPaGURPVn95+4MgmD/HTfk6yIAueL2gmmFJz4/vdMlkw+rGtQDbhB4CWFBnC3f//1m/yXiuTkBMbN06HaicBUPesO4yVCdzxXfET8DEK5XYCgJH60fnUuIP1jyZJ/to6q6xRVOQG5ZfGiSIOapIzQSlZwW1afYA2A+jMisZu1M3Gad5LeRtaJJU/r+n4Pq+5sauAAAABBBm5hJ4QpSZTAjf/pYAATNAAACY0GftkU0Tf/EJNxJrMjpf4ag00tk3Ma4P+KhEUsguiz3/S6gHsuvWMMt/iH5h9rpwRl9zAPCaf5ufPMzQJxafJypwqShfqPsMu3Qx1qWK15KZ+uKX19B3R5jlNgBhQfjKVy86DrjwkGiY5pALhLupIPZKvZRSIi78+j/1pVHGuaIXZLxXzqw4z0UJVujD3s/s7jtu4IidjQyn/p5WuCTBTnrGyKRjgXGiBNavGQ1B4Ku274CdLVsckJdSuO49rMI1pbsT+uupMuQRxNkS03kxaerPCkhHYItsw+2hoVHhnFuxWS3s06QOo0a12AQo4GL252gewO6MyVa+WqnGM4kdcaYB1gAjTwAw11kaAudwm8J+rWo/9tbzBLeMWH30gXTXKUAQm6sh/fUYZ9x0SfpH4u7VltZ8WIaVkinbLMjwys0DPAfG/qc7RbZJXsYzYpybC29AUDBoOd6wNoZW17zURVhYc0Xv+dPmF6yWW76yLqM1PJArWznny2ubQoLDWEcg6H7wo65hC1xtMBUljWyd4Hqn4VEjvSDPqJzvDJakLRjyT7RBNiR50+vNlGoYTQI6DG9TL4OI8B/jmbfY7La3lYgauzpbIBDv7mzjJLF/xiF8WtitrXLcUAOFHvv1bm4Vq3EUUPx39njOVle2cbJRsXeFou19uPfCIV13IJhwExppZ3DD1IkGvNGCuKxO5eBazg7hXpSIDephliHecnViqASWYfEmPUgIjItCXxTUWS9qVrbOkLnV8jypngqqHzrZzuR2ul8ObQ8PrxdtjQQJSEmDgIlP/D1DokLEOnQeJkGqqdcAAAAEAGf1XRXyA2GkFG/ROEyYkEAAAALAZ/XalfKEPO6STkAAAAQQZvbSahBaJlMCL/6WAAEzAAAAB5Bn/lFES//0yQey9LmLgWRQh9T+Xqf7cgj/MAKxHUAAAAUAZ4aalfQdKOuCVyH6nwXxnUw1jgAAAAQQZofSahBbJlMCJ/zIAALuQAAABpBnj1FFS3/yvtguS1AoTaBzuIVIzN+UYHmsQAAAA4Bnlx0V8gFqJmFyYSvowAAAA8Bnl5qV9B0o64C2MAMfOAAAAAQQZpDSahBbJlMC/8AAAMA/wAAABRBnmFFFS3/yvtguS016AZK9mOdIAAAABABnoB0V8gFqJmGoT1PT/PxAAAADgGegmpXygdRSMNUE/owAAAAG0GahEmoQWyZTAr/b/L3wOx0AEOB9C5MBoYIFQAAB85tb292AAAAbG12aGQAAAAAAAAAAAAAAAAAAAPoAABO6AABAAABAAAAAAAAAAAAAAAAAQAAAAAAAAAAAAAAAAAAAAEAAAAAAAAAAAAAAAAAAEAAAAAAAAAAAAAAAAAAAAAAAAAAAAAAAAAAAAAAAAACAAAG+HRyYWsAAABcdGtoZAAAAAMAAAAAAAAAAAAAAAEAAAAAAABO6AAAAAAAAAAAAAAAAAAAAAAAAQAAAAAAAAAAAAAAAAAAAAEAAAAAAAAAAAAAAAAAAEAAAAABAAAAAQAAAAAAACRlZHRzAAAAHGVsc3QAAAAAAAAAAQAATugAABAAAAEAAAAABnBtZGlhAAAAIG1kaGQAAAAAAAAAAAAAAAAAACgAAAMoAFXEAAAAAAAtaGRscgAAAAAAAAAAdmlkZQAAAAAAAAAAAAAAAFZpZGVvSGFuZGxlcgAAAAYbbWluZgAAABR2bWhkAAAAAQAAAAAAAAAAAAAAJGRpbmYAAAAcZHJlZgAAAAAAAAABAAAADHVybCAAAAABAAAF23N0YmwAAACvc3RzZAAAAAAAAAABAAAAn2F2YzEAAAAAAAAAAQAAAAAAAAAAAAAAAAAAAAABAAEAAEgAAABIAAAAAAAAAAEVTGF2YzYwLjMxLjEwMiBsaWJ4MjY0AAAAAAAAAAAAAAAY//8AAAA1YXZjQwFkAAz/4QAYZ2QADKzZQQCGhAAAAwAEAAADACg8UKZYAQAGaOvjyyLA/fj4AAAAABRidHJ0AAAAAAAARc4AAEXOAAAAGHN0dHMAAAAAAAAAAQAAAGUAAAgAAAAAFHN0c3MAAAAAAAAAAQAAAAEAAAMgY3R0cwAAAAAAAABiAAAAAQAAEAAAAAABAAAoAAAAAAEAABAAAAAAAQAAAAAAAAABAAAIAAAAAAEAACgAAAAAAQAAEAAAAAABAAAAAAAAAAEAAAgAAAAAAQAAGAAAAAABAAAIAAAAAAEAACgAAAAAAQAAEAAAAAABAAAAAAAAAAEAAAgAAAAAAQAAKAAAAAABAAAQAAAAAAEAAAAAAAAAAQAACAAAAAABAAAoAAAAAAEAABAAAAAAAQAAAAAAAAABAAAIAAAAAAEAACAAAAAAAgAACAAAAAABAAAoAAAAAAEAABAAAAAAAQAAAAAAAAABAAAIAAAAAAEAACAAAAAAAgAACAAAAAABAAAoAAAAAAEAABAAAAAAAQAAAAAAAAABAAAIAAAAAAEAACgAAAAAAQAAEAAAAAABAAAAAAAAAAEAAAgAAAAAAQAAKAAAAAABAAAQAAAAAAEAAAAAAAAAAQAACAAAAAABAAAoAAAAAAEAABAAAAAAAQAAAAAAAAABAAAIAAAAAAEAACgAAAAAAQAAEAAAAAABAAAAAAAAAAEAAAgAAAAAAQAAKAAAAAABAAAQAAAAAAEAAAAAAAAAAQAACAAAAAABAAAoAAAAAAEAABAAAAAAAQAAAAAAAAABAAAIAAAAAAEAABgAAAAAAQAACAAAAAABAAAoAAAAAAEAABAAAAAAAQAAAAAAAAABAAAIAAAAAAEAACgAAAAAAQAAEAAAAAABAAAAAAAAAAEAAAgAAAAAAQAAKAAAAAABAAAQAAAAAAEAAAAAAAAAAQAACAAAAAABAAAoAAAAAAEAABAAAAAAAQAAAAAAAAABAAAIAAAAAAEAACgAAAAAAQAAEAAAAAABAAAAAAAAAAEAAAgAAAAAAQAAGAAAAAABAAAIAAAAAAEAACgAAAAAAQAAEAAAAAABAAAAAAAAAAEAAAgAAAAAAQAAIAAAAAACAAAIAAAAAAEAACgAAAAAAQAAEAAAAAABAAAAAAAAAAEAAAgAAAAAAQAAKAAAAAABAAAQAAAAAAEAAAAAAAAAAQAACAAAAAABAAAQAAAAABxzdHNjAAAAAAAAAAEAAAABAAAAZQAAAAEAAAGoc3RzegAAAAAAAAAAAAAAZQAAYjYAAAO7AAABcQAAABoAAAF+AAACuwAAAZ4AAAGAAAABoQAAADUAAAF9AAACcgAAATgAAAGIAAAAHwAAAEEAAAG8AAAAGwAAATEAAAIBAAABmgAAAUEAAAEtAAAAXgAAAYEAAAFNAAABTQAAAaEAAAF+AAABnwAAAewAAAAUAAABQQAAAcMAAAAWAAAADAAAABQAAAApAAAAGgAAABQAAAAYAAAAIwAAAX4AAAAdAAABRwAAABkAAAG4AAAAFwAAABgAAAB1AAAAFAAAABMAAAAMAAAAOgAAAA4AAAAMAAAADAAAAw0AAAHIAAAAEwAAABcAAAG0AAABngAAANIAAAAfAAABSgAAASIAAAIwAAABbwAAAB8AAAEiAAAAJgAAAA4AAAAMAAAADAAAABoAAAAOAAAADAAAAAwAAANxAAAAFAAAABIAAAAVAAAAFQAAAf8AAAAUAAACZwAAABQAAAAPAAAAFAAAACIAAAAYAAAAFAAAAB4AAAASAAAAEwAAABQAAAAYAAAAFAAAABIAAAAfAAAAFHN0Y28AAAAAAAAAAQAAADAAAABidWR0YQAAAFptZXRhAAAAAAAAACFoZGxyAAAAAAAAAABtZGlyYXBwbAAAAAAAAAAAAAAAAC1pbHN0AAAAJal0b28AAAAdZGF0YQAAAAEAAAAATGF2ZjYwLjE2LjEwMA==\"></video>"
      ],
      "text/plain": [
       "<IPython.core.display.HTML object>"
      ]
     },
     "execution_count": 280,
     "metadata": {},
     "output_type": "execute_result"
    }
   ],
   "source": [
    "# Testing the policy on the environment in slippery mode\n",
    "\n",
    "dynamics = FrozenLakeMDP(is_slippery=True)\n",
    "policy = policy_iteration(dynamics)\n",
    "\n",
    "env = gym.make(\"FrozenLake-v1\", map_name=\"4x4\", is_slippery=True, render_mode='rgb_array')\n",
    "total_reward = record_video(env, policy, 'frozenlake_policy_actions_slippery.mp4', fps=5, random_action=False)\n",
    "print(f\"total reward: {total_reward}\")\n",
    "show_video('frozenlake_policy_actions_slippery.mp4', video_width=500)"
   ]
  },
  {
   "cell_type": "code",
   "execution_count": 281,
   "metadata": {},
   "outputs": [],
   "source": [
    "# when environmet is slippery, there is no policy that can take the agent the to state 15 with 100 percent certainty,\n",
    "# since the agent may always end up in water hole. The reason behind this is, no matter which path the agent takes, it is\n",
    "# always probable for the agent to end up at state 6 where no action can guarantee agent's safety."
   ]
  },
  {
   "cell_type": "markdown",
   "metadata": {},
   "source": [
    "## Q-Learning"
   ]
  },
  {
   "cell_type": "code",
   "execution_count": 282,
   "metadata": {},
   "outputs": [],
   "source": [
    "class QAgent:  # The Q-Learning RL agent\n",
    "\n",
    "    def __init__(self, num_states, num_actions, epsilon, alpha, gamma=0.9, eps_end=0.01, eps_decay=3e-6):\n",
    "\n",
    "        self.num_states = num_states    # number of possible states\n",
    "        self.num_actions = num_actions  # number of possible actions\n",
    "        self.gamma = gamma              # discount factor\n",
    "        self.epsilon = epsilon          # initial exploration probability\n",
    "        self.alpha = alpha              # step size\n",
    "        self.eps_decay = eps_decay      # linear decay rate of epsilon\n",
    "        self.eps_end = eps_end          # minimum value for epsilon\n",
    "        self.q_table = np.zeros((num_states, num_actions), dtype=float)\n",
    "\n",
    "    def choose_action(self, state):\n",
    "        \"\"\"\n",
    "        chooses an action in an epsilon-greedy manner.\n",
    "    \n",
    "        Args:\n",
    "            state (int): current state of the agent.\n",
    "    \n",
    "        Returns:\n",
    "            int: the chosen action\n",
    "        \"\"\"\n",
    "        \n",
    "\n",
    "        random_number = np.random.random()\n",
    "        chosen_action = 0\n",
    "        if random_number > self.epsilon:\n",
    "            chosen_action = np.argmax(self.q_table[state])\n",
    "        else:\n",
    "            chosen_action = np.random.choice(self.num_actions)\n",
    "        return chosen_action\n",
    "\n",
    "    def learn(self, state, action, reward, next_state):\n",
    "        \"\"\"\n",
    "        updates the q-table based on a single interaction with the environment.\n",
    "    \n",
    "        Args:\n",
    "            state (int): state of the agent.\n",
    "            action (int): action chosen by the agent.\n",
    "            reward (int): reward obtained by the agent.\n",
    "            next_state (int): next state of the agent.\n",
    "        \"\"\"\n",
    "        \n",
    "        max_next_qs = max(self.q_table[next_state])\n",
    "        difference = reward + self.gamma * max_next_qs - self.q_table[state, action]\n",
    "        self.q_table[state, action] = self.q_table[state, action] + self.alpha * difference\n",
    "        \n",
    "        # epsilon decay\n",
    "        self.epsilon = self.epsilon - self.eps_decay if self.epsilon > self.eps_end else self.eps_end"
   ]
  },
  {
   "cell_type": "code",
   "execution_count": 283,
   "metadata": {},
   "outputs": [],
   "source": [
    "def train(env, agent, n_episodes=100000):\n",
    "    \"\"\"\n",
    "        trains an agent through interactions with the environemnt using Q-learning.\n",
    "    \n",
    "        Args:\n",
    "            env (gym.Env): the gym environment.\n",
    "            agent (QAgent): the Q-learning agent.\n",
    "            n_episodes (int): number of training episodes.\n",
    "    \"\"\"\n",
    "\n",
    "    initial_state = 0\n",
    "    env.reset()\n",
    "    for episode_no in range(n_episodes):\n",
    "        action = agent.choose_action(initial_state)\n",
    "        next_state, reward, done, truncated, info = env.step(action)\n",
    "        agent.learn(initial_state, action, reward, next_state)\n",
    "        initial_state = next_state\n",
    "        if done or truncated:\n",
    "            env.reset()"
   ]
  },
  {
   "cell_type": "code",
   "execution_count": 284,
   "metadata": {},
   "outputs": [],
   "source": [
    "env = gym.make(\"FrozenLake-v1\", map_name=\"4x4\", is_slippery=False)\n",
    "agent = QAgent(num_states=16, num_actions=4, epsilon=1.0, alpha=1e-3)"
   ]
  },
  {
   "cell_type": "code",
   "execution_count": 285,
   "metadata": {},
   "outputs": [],
   "source": [
    "train(env, agent)"
   ]
  },
  {
   "cell_type": "code",
   "execution_count": 286,
   "metadata": {},
   "outputs": [
    {
     "name": "stdout",
     "output_type": "stream",
     "text": [
      "[2 2 1 0 1 2 1 2 2 2 1 2 2 2 2 2]\n"
     ]
    }
   ],
   "source": [
    "\n",
    "policy = np.zeros(agent.num_states, dtype=int)\n",
    "for state in range(agent.num_states):\n",
    "    for action in range(agent.num_actions):\n",
    "        if agent.q_table[state, action] > agent.q_table[state, policy[state]]:\n",
    "            policy[state] = action\n",
    "# The obtained policy when q_agent is not in slippery mode\n",
    "print(policy)"
   ]
  },
  {
   "cell_type": "code",
   "execution_count": 287,
   "metadata": {},
   "outputs": [
    {
     "name": "stdout",
     "output_type": "stream",
     "text": [
      "action: 2, state: 1, reward: 0.0, done: False, truncated: False, info: {'prob': 1.0}\n",
      "action: 2, state: 2, reward: 0.0, done: False, truncated: False, info: {'prob': 1.0}\n",
      "action: 1, state: 6, reward: 0.0, done: False, truncated: False, info: {'prob': 1.0}\n",
      "action: 1, state: 10, reward: 0.0, done: False, truncated: False, info: {'prob': 1.0}\n",
      "action: 1, state: 14, reward: 0.0, done: False, truncated: False, info: {'prob': 1.0}\n",
      "action: 2, state: 15, reward: 1.0, done: True, truncated: False, info: {'prob': 1.0}\n",
      "total reward: 1.0\n",
      "obtained policy when q_agent is in non slippery mode\n",
      "[2 2 1 0 1 2 1 2 2 2 1 2 2 2 2 2]\n",
      "\n",
      "\n"
     ]
    }
   ],
   "source": [
    "# Test the policy on the environment in non slippery mode\n",
    "\n",
    "env = gym.make(\"FrozenLake-v1\", map_name=\"4x4\", is_slippery=False, render_mode='rgb_array')\n",
    "total_reward = record_video(env, policy, 'frozenlake_qs_learned.mp4', fps=5, random_action=False)\n",
    "\n",
    "print(f\"total reward: {total_reward}\")\n",
    "show_video('frozenlake_qs_learned.mp4', video_width=500)\n",
    "\n",
    "print('obtained policy when q_agent is in non slippery mode')\n",
    "print(policy)\n",
    "print('\\n')\n",
    "\n",
    "\n"
   ]
  },
  {
   "cell_type": "code",
   "execution_count": 288,
   "metadata": {},
   "outputs": [
    {
     "name": "stdout",
     "output_type": "stream",
     "text": [
      "action: 2, state: 1, reward: 0.0, done: False, truncated: False, info: {'prob': 0.3333333333333333}\n",
      "action: 2, state: 1, reward: 0.0, done: False, truncated: False, info: {'prob': 0.3333333333333333}\n",
      "action: 2, state: 1, reward: 0.0, done: False, truncated: False, info: {'prob': 0.3333333333333333}\n",
      "action: 2, state: 1, reward: 0.0, done: False, truncated: False, info: {'prob': 0.3333333333333333}\n",
      "action: 2, state: 1, reward: 0.0, done: False, truncated: False, info: {'prob': 0.3333333333333333}\n",
      "action: 2, state: 2, reward: 0.0, done: False, truncated: False, info: {'prob': 0.3333333333333333}\n",
      "action: 2, state: 2, reward: 0.0, done: False, truncated: False, info: {'prob': 0.3333333333333333}\n",
      "action: 2, state: 3, reward: 0.0, done: False, truncated: False, info: {'prob': 0.3333333333333333}\n",
      "action: 0, state: 2, reward: 0.0, done: False, truncated: False, info: {'prob': 0.3333333333333333}\n",
      "action: 2, state: 6, reward: 0.0, done: False, truncated: False, info: {'prob': 0.3333333333333333}\n",
      "action: 2, state: 7, reward: 0.0, done: True, truncated: False, info: {'prob': 0.3333333333333333}\n",
      "total reward: 0.0\n",
      "obtained policy when q_agent is in slippery mode\n",
      "[2 2 2 0 0 1 2 1 1 1 0 1 2 1 3 1]\n",
      "\n",
      "\n"
     ]
    }
   ],
   "source": [
    "# Test the policy on the environment in slippery mode\n",
    "\n",
    "env = gym.make(\"FrozenLake-v1\", map_name=\"4x4\", is_slippery=True)\n",
    "agent = QAgent(num_states=16, num_actions=4, epsilon=1.0, alpha=1e-3)\n",
    "\n",
    "train(env, agent)\n",
    "\n",
    "policy = np.zeros(agent.num_states, dtype=int)\n",
    "for state in range(agent.num_states):\n",
    "    for action in range(agent.num_actions):\n",
    "        if agent.q_table[state, action] > agent.q_table[state, policy[state]]:\n",
    "            policy[state] = action\n",
    "\n",
    "env = gym.make(\"FrozenLake-v1\", map_name=\"4x4\", is_slippery=True, render_mode='rgb_array')\n",
    "total_reward = record_video(env, policy, 'frozenlake_qs_learned_slippery.mp4', fps=5, random_action=False)\n",
    "print(f\"total reward: {total_reward}\")\n",
    "show_video('frozenlake_qs_learned_slippery.mp4', video_width=500)\n",
    "\n",
    "# The obtained policy when q_agent is in slippery mode\n",
    "print('obtained policy when q_agent is in slippery mode')\n",
    "print(policy)\n",
    "print('\\n')"
   ]
  },
  {
   "cell_type": "code",
   "execution_count": 289,
   "metadata": {},
   "outputs": [],
   "source": [
    "# As mentioned earlier, we can never find a policy to guarantee agent reaches state 15. So no matter how many episodes\n",
    "# we feed into agent's training time, it can always end up in a water hole. But there is a policy which we (the omniscient)\n",
    "# can tell is best. for state 0 and 4 it is left, for state 8 up, for state 9 down, 13 right, 14 down, hopping we don't get\n",
    "# into state 10 and consequently state 6. When environment is not slippery with differnt hyper parameters (especially epsilon) the agent can take different\n",
    "# paths."
   ]
  }
 ],
 "metadata": {
  "kernelspec": {
   "display_name": "torch",
   "language": "python",
   "name": "python3"
  },
  "language_info": {
   "codemirror_mode": {
    "name": "ipython",
    "version": 3
   },
   "file_extension": ".py",
   "mimetype": "text/x-python",
   "name": "python",
   "nbconvert_exporter": "python",
   "pygments_lexer": "ipython3",
   "version": "3.10.9"
  }
 },
 "nbformat": 4,
 "nbformat_minor": 2
}
